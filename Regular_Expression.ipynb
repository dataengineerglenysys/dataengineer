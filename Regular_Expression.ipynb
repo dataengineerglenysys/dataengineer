{
 "cells": [
  {
   "cell_type": "code",
   "execution_count": 1,
   "metadata": {},
   "outputs": [
    {
     "name": "stdout",
     "output_type": "stream",
     "text": [
      "['A', 'ASCII', 'B', 'BESTMATCH', 'D', 'DEBUG', 'DEFAULT_VERSION', 'DOTALL', 'E', 'ENHANCEMATCH', 'F', 'FULLCASE', 'I', 'IGNORECASE', 'L', 'LOCALE', 'M', 'MULTILINE', 'P', 'POSIX', 'R', 'REVERSE', 'Regex', 'S', 'Scanner', 'T', 'TEMPLATE', 'U', 'UNICODE', 'V0', 'V1', 'VERBOSE', 'VERSION0', 'VERSION1', 'W', 'WORD', 'X', '__all__', '__builtins__', '__cached__', '__doc__', '__file__', '__loader__', '__name__', '__package__', '__path__', '__spec__', '__version__', '_regex', '_regex_core', 'compile', 'error', 'escape', 'findall', 'finditer', 'fullmatch', 'match', 'purge', 'regex', 'search', 'split', 'splititer', 'sub', 'subf', 'subfn', 'subn', 'template']\n"
     ]
    }
   ],
   "source": [
    "import regex\n",
    "print(dir(regex))"
   ]
  },
  {
   "cell_type": "code",
   "execution_count": 2,
   "metadata": {},
   "outputs": [
    {
     "name": "stdout",
     "output_type": "stream",
     "text": [
      "['python', 'python']\n"
     ]
    }
   ],
   "source": [
    "import regex \n",
    "  \n",
    "x = \"python is programming language.python is easy to learn\"  \n",
    "  \n",
    "y = regex.findall(\"python\", x) \n",
    "\n",
    "print(y)"
   ]
  },
  {
   "cell_type": "code",
   "execution_count": 4,
   "metadata": {},
   "outputs": [
    {
     "name": "stdout",
     "output_type": "stream",
     "text": [
      "<_regex.Scanner object at 0x000001FF8F01E510>\n",
      "(7, 9)\n",
      "(38, 40)\n"
     ]
    }
   ],
   "source": [
    "import regex \n",
    "  \n",
    "x = \"python is programming language.python is easy to learn\"  \n",
    "  \n",
    "y = regex.finditer(\"is\", x) \n",
    "\n",
    "print(y)\n",
    "\n",
    "for k in y:\n",
    "    print(k.span())"
   ]
  },
  {
   "cell_type": "code",
   "execution_count": 12,
   "metadata": {},
   "outputs": [
    {
     "name": "stdout",
     "output_type": "stream",
     "text": [
      "<regex.Match object; span=(0, 2), match='py'>\n"
     ]
    }
   ],
   "source": [
    "import regex \n",
    "  \n",
    "x = \"python is programming language.python is easy to learn\"  \n",
    "  \n",
    "y = regex.match('py', x) \n",
    "\n",
    "print(y)"
   ]
  },
  {
   "cell_type": "code",
   "execution_count": 15,
   "metadata": {},
   "outputs": [
    {
     "name": "stdout",
     "output_type": "stream",
     "text": [
      "None\n"
     ]
    }
   ],
   "source": [
    "import regex \n",
    "  \n",
    "x = \"python is programming language.python is easy to learn\"  \n",
    "  \n",
    "y = regex.fullmatch(\"py\", x) \n",
    "\n",
    "print(y)"
   ]
  },
  {
   "cell_type": "code",
   "execution_count": 18,
   "metadata": {},
   "outputs": [
    {
     "name": "stdout",
     "output_type": "stream",
     "text": [
      "<regex.Match object; span=(10, 21), match='programming'>\n"
     ]
    }
   ],
   "source": [
    "import regex \n",
    "  \n",
    "x = \"python is programming language.python is easy to learn\"  \n",
    "  \n",
    "y = regex.search(\"programming\", x) \n",
    "\n",
    "print(y)"
   ]
  },
  {
   "cell_type": "code",
   "execution_count": 23,
   "metadata": {},
   "outputs": [
    {
     "name": "stdout",
     "output_type": "stream",
     "text": [
      "['python', 'is', 'programming', 'language.python', 'is', 'easy', 'to', 'learn']\n"
     ]
    }
   ],
   "source": [
    "import regex \n",
    "  \n",
    "x = \"python is programming language.python is easy to learn\"  \n",
    "  \n",
    "y = regex.split(\" \", x) \n",
    "\n",
    "print(y)"
   ]
  },
  {
   "cell_type": "code",
   "execution_count": 34,
   "metadata": {},
   "outputs": [
    {
     "name": "stdout",
     "output_type": "stream",
     "text": [
      "Java is programming language.Java is easy to learn\n"
     ]
    }
   ],
   "source": [
    "import regex \n",
    "  \n",
    "x = \"python is programming language.python is easy to learn\"  \n",
    "  \n",
    "y = regex.sub(\"python\",\"Java\", x) \n",
    "\n",
    "print(y)"
   ]
  },
  {
   "cell_type": "code",
   "execution_count": 35,
   "metadata": {},
   "outputs": [
    {
     "name": "stdout",
     "output_type": "stream",
     "text": [
      "('Java is programming language.Java is easy to learn', 2)\n"
     ]
    }
   ],
   "source": [
    "import regex \n",
    "  \n",
    "x = \"python is programming language.python is easy to learn\"  \n",
    "  \n",
    "y = regex.subn(\"python\",\"Java\", x) \n",
    "\n",
    "print(y)"
   ]
  }
 ],
 "metadata": {
  "kernelspec": {
   "display_name": "Python 3",
   "language": "python",
   "name": "python3"
  },
  "language_info": {
   "codemirror_mode": {
    "name": "ipython",
    "version": 3
   },
   "file_extension": ".py",
   "mimetype": "text/x-python",
   "name": "python",
   "nbconvert_exporter": "python",
   "pygments_lexer": "ipython3",
   "version": "3.8.5"
  }
 },
 "nbformat": 4,
 "nbformat_minor": 4
}
