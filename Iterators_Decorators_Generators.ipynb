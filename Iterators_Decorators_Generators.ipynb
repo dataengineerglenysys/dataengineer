{
 "cells": [
  {
   "cell_type": "markdown",
   "metadata": {},
   "source": [
    "# Decorators"
   ]
  },
  {
   "cell_type": "code",
   "execution_count": 3,
   "metadata": {},
   "outputs": [
    {
     "name": "stdout",
     "output_type": "stream",
     "text": [
      "hello function called\n",
      "Glenysys,DataEngineer\n",
      "GlenysysDataEngineer\n"
     ]
    }
   ],
   "source": [
    "x = 'Glenysys'\n",
    "y = 'DataEngineer'\n",
    "\n",
    "\n",
    "# decorator function to add \n",
    "def extra_logic(function):\n",
    "    def wrapper():\n",
    "        func = function()\n",
    "        str_add = x + y\n",
    "        print(str_add)\n",
    "    return wrapper\n",
    "\n",
    "\n",
    "@extra_logic\n",
    "def hello():\n",
    "    print('hello function called')\n",
    "    z = x + ',' + y\n",
    "    print(z)\n",
    "\n",
    "\n",
    "hello()"
   ]
  },
  {
   "cell_type": "markdown",
   "metadata": {},
   "source": [
    "# Iterators "
   ]
  },
  {
   "cell_type": "code",
   "execution_count": 2,
   "metadata": {},
   "outputs": [
    {
     "name": "stdout",
     "output_type": "stream",
     "text": [
      "Glenysys\n",
      "DataEngineer\n"
     ]
    }
   ],
   "source": [
    "x = ['Glenysys', 'DataEngineer']\n",
    "y = iter(x)\n",
    "print(next(y))\n",
    "print(next(y))"
   ]
  },
  {
   "cell_type": "markdown",
   "metadata": {},
   "source": [
    "# Generators"
   ]
  },
  {
   "cell_type": "code",
   "execution_count": 3,
   "metadata": {},
   "outputs": [
    {
     "name": "stdout",
     "output_type": "stream",
     "text": [
      "Glenysys\n",
      "DataEngineer\n"
     ]
    }
   ],
   "source": [
    "x = ['Glenysys', 'DataEngineer']\n",
    "def y(i):\n",
    "    for i in x:\n",
    "        yield i\n",
    "  \n",
    "  \n",
    "z = y(x)\n",
    "\n",
    "print(next(z))\n",
    "print(next(z))"
   ]
  },
  {
   "cell_type": "code",
   "execution_count": null,
   "metadata": {},
   "outputs": [],
   "source": []
  }
 ],
 "metadata": {
  "kernelspec": {
   "display_name": "Python 3",
   "language": "python",
   "name": "python3"
  },
  "language_info": {
   "codemirror_mode": {
    "name": "ipython",
    "version": 3
   },
   "file_extension": ".py",
   "mimetype": "text/x-python",
   "name": "python",
   "nbconvert_exporter": "python",
   "pygments_lexer": "ipython3",
   "version": "3.8.5"
  }
 },
 "nbformat": 4,
 "nbformat_minor": 4
}
