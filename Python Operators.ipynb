{
 "cells": [
  {
   "cell_type": "markdown",
   "metadata": {},
   "source": [
    "# Arithmetic Operators"
   ]
  },
  {
   "cell_type": "code",
   "execution_count": 5,
   "metadata": {},
   "outputs": [
    {
     "name": "stdout",
     "output_type": "stream",
     "text": [
      "x + y = 12\n",
      "x - y = 8\n",
      "x * y = 20\n",
      "x / y = 5.0\n",
      "x % y = 0\n",
      "x // y = 5\n",
      "x ** y = 100\n"
     ]
    }
   ],
   "source": [
    "x = 10\n",
    "y = 2\n",
    "\n",
    "print('x + y =',x+y)\n",
    "\n",
    "print('x - y =',x-y)\n",
    "\n",
    "print('x * y =',x*y)\n",
    "\n",
    "print('x / y =',x/y) #Quotient of x/y, which is always float\n",
    "\n",
    "print('x % y =',x%y) #Remainder of x/y = Modulus\n",
    "\n",
    "print('x // y =',x//y) #division that results into whole number adjusted to the left in the number line = Floor Division\n",
    "\n",
    "print('x ** y =',x**y) #x to the power y"
   ]
  },
  {
   "cell_type": "markdown",
   "metadata": {},
   "source": [
    "# Assignment Operators"
   ]
  },
  {
   "cell_type": "code",
   "execution_count": 2,
   "metadata": {},
   "outputs": [
    {
     "name": "stdout",
     "output_type": "stream",
     "text": [
      "10.0\n"
     ]
    }
   ],
   "source": [
    "x = 10\n",
    "x += 2 \n",
    "x -= 2\n",
    "x *= 2\n",
    "x /= 2\n",
    "print(x)"
   ]
  },
  {
   "cell_type": "markdown",
   "metadata": {},
   "source": [
    "# Comparison Operators"
   ]
  },
  {
   "cell_type": "code",
   "execution_count": 3,
   "metadata": {},
   "outputs": [
    {
     "name": "stdout",
     "output_type": "stream",
     "text": [
      "x > y is False\n",
      "x < y is True\n",
      "x == y is False\n",
      "x != y is True\n",
      "x >= y is False\n",
      "x <= y is True\n"
     ]
    }
   ],
   "source": [
    "x = 10\n",
    "y = 20\n",
    "\n",
    "print('x > y is',x>y)\n",
    "\n",
    "print('x < y is',x<y)\n",
    "\n",
    "print('x == y is',x==y)\n",
    "\n",
    "print('x != y is',x!=y)\n",
    "\n",
    "print('x >= y is',x>=y)\n",
    "\n",
    "print('x <= y is',x<=y)"
   ]
  },
  {
   "cell_type": "markdown",
   "metadata": {},
   "source": [
    "# Logical Operators"
   ]
  },
  {
   "cell_type": "code",
   "execution_count": 23,
   "metadata": {},
   "outputs": [
    {
     "name": "stdout",
     "output_type": "stream",
     "text": [
      "False\n",
      "False\n",
      "True\n"
     ]
    }
   ],
   "source": [
    "# and, True if both the operands are true\n",
    "# or, True if either of the operands is true\n",
    "# not, True if operand is false (complements the operand)\n",
    "x = 100\n",
    "y = 500\n",
    "\n",
    "print(x < 5 and  y < 10)\n",
    "print(x < 5 or  y < 10)\n",
    "print(not(x < 5 and x < 10))"
   ]
  },
  {
   "cell_type": "markdown",
   "metadata": {},
   "source": [
    "# Identity Operators"
   ]
  },
  {
   "cell_type": "code",
   "execution_count": 24,
   "metadata": {},
   "outputs": [
    {
     "name": "stdout",
     "output_type": "stream",
     "text": [
      "True\n",
      "True\n"
     ]
    }
   ],
   "source": [
    "# is, True if the operands are identical\n",
    "# is not, True if the operands are not identical\n",
    "x = 5\n",
    "y = 5\n",
    "a = 'USA'\n",
    "b = 'INDIA'\n",
    "\n",
    "print(a is not b)\n",
    "\n",
    "print(x is y)\n"
   ]
  },
  {
   "cell_type": "markdown",
   "metadata": {},
   "source": [
    "# Membership operators"
   ]
  },
  {
   "cell_type": "code",
   "execution_count": 6,
   "metadata": {},
   "outputs": [
    {
     "name": "stdout",
     "output_type": "stream",
     "text": [
      "True\n",
      "False\n",
      "True\n"
     ]
    }
   ],
   "source": [
    "#in, True if value/variable is found in the sequence\n",
    "#not in, True if value/variable is not found in the sequence\n",
    "x = 'Glenysys'\n",
    "\n",
    "print('s' in x)\n",
    "\n",
    "print('G' not in x)\n",
    "\n",
    "print('F' not in x)"
   ]
  },
  {
   "cell_type": "markdown",
   "metadata": {},
   "source": [
    "# Bitwise Operators"
   ]
  },
  {
   "cell_type": "code",
   "execution_count": 37,
   "metadata": {},
   "outputs": [
    {
     "name": "stdout",
     "output_type": "stream",
     "text": [
      "0\n",
      "14\n",
      "14\n",
      "-11\n",
      "160\n",
      "0\n"
     ]
    }
   ],
   "source": [
    "# &  AND, Sets each bit to 1 if both bits are 1\n",
    "# | OR, Sets each bit to 1 if one of two bits is 1\n",
    "# ^ XOR, Sets each bit to 1 if only one of two bits is 1\n",
    "# ~ NOT, Inverts all the bits\n",
    "# << Zero fill left shift, Shift left by pushing zeros in from the right and let the leftmost bits fall off\n",
    "# >> Signed right shift, Shift right by pushing copies of the leftmost bit in from the left, and let the rightmost bits fall off\n",
    "# 0000 1010\n",
    "x = 10 \n",
    "# 0000 0100\n",
    "y = 4\n",
    "print(x & y) #00000000\n",
    "print(x | y) #00001111\n",
    "print(x ^ y)\n",
    "print(~x) #11110101\n",
    "print(x << y)\n",
    "print(x >> y)"
   ]
  },
  {
   "cell_type": "code",
   "execution_count": null,
   "metadata": {},
   "outputs": [],
   "source": []
  }
 ],
 "metadata": {
  "kernelspec": {
   "display_name": "Python 3",
   "language": "python",
   "name": "python3"
  },
  "language_info": {
   "codemirror_mode": {
    "name": "ipython",
    "version": 3
   },
   "file_extension": ".py",
   "mimetype": "text/x-python",
   "name": "python",
   "nbconvert_exporter": "python",
   "pygments_lexer": "ipython3",
   "version": "3.8.5"
  }
 },
 "nbformat": 4,
 "nbformat_minor": 4
}
