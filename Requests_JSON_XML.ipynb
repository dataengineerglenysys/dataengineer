{
 "cells": [
  {
   "cell_type": "code",
   "execution_count": 3,
   "metadata": {},
   "outputs": [
    {
     "name": "stdout",
     "output_type": "stream",
     "text": [
      "['ConnectTimeout', 'ConnectionError', 'DependencyWarning', 'FileModeWarning', 'HTTPError', 'NullHandler', 'PreparedRequest', 'ReadTimeout', 'Request', 'RequestException', 'RequestsDependencyWarning', 'Response', 'Session', 'Timeout', 'TooManyRedirects', 'URLRequired', '__author__', '__author_email__', '__build__', '__builtins__', '__cached__', '__cake__', '__copyright__', '__description__', '__doc__', '__file__', '__license__', '__loader__', '__name__', '__package__', '__path__', '__spec__', '__title__', '__url__', '__version__', '_check_cryptography', '_internal_utils', 'adapters', 'api', 'auth', 'certs', 'chardet', 'check_compatibility', 'codes', 'compat', 'cookies', 'delete', 'exceptions', 'get', 'head', 'hooks', 'logging', 'models', 'options', 'packages', 'patch', 'post', 'put', 'request', 'session', 'sessions', 'ssl', 'status_codes', 'structures', 'urllib3', 'utils', 'warnings']\n"
     ]
    }
   ],
   "source": [
    "import requests\n",
    "print(dir(requests))"
   ]
  },
  {
   "cell_type": "code",
   "execution_count": 9,
   "metadata": {},
   "outputs": [
    {
     "name": "stdout",
     "output_type": "stream",
     "text": [
      "200\n",
      "<class 'list'>\n",
      "15\n"
     ]
    },
    {
     "data": {
      "text/plain": [
       "dict"
      ]
     },
     "execution_count": 9,
     "metadata": {},
     "output_type": "execute_result"
    }
   ],
   "source": [
    "import requests\n",
    "from requests.auth import HTTPBasicAuth\n",
    "\n",
    "url = \"https://api.github.com/repos/dataengineerglenysys/dataengineer/contents\"\n",
    "\n",
    "username = \"dataengineerglenysys\"\n",
    "\n",
    "password = \"re5sdL@r\"\n",
    "\n",
    "response = requests.get(url, auth = HTTPBasicAuth('username', 'password'))\n",
    "\n",
    "print(response.status_code)\n",
    "\n",
    "print(type(response.json()))\n",
    "\n",
    "print(len(response.json()))\n",
    "\n",
    "data = response.json()[0] # first element in list is accessed\n",
    "\n",
    "type(data)\n"
   ]
  },
  {
   "cell_type": "code",
   "execution_count": 10,
   "metadata": {},
   "outputs": [
    {
     "name": "stdout",
     "output_type": "stream",
     "text": [
      "[{'name': 'Conditional_statements_If_IfElifElse_Nested If.ipynb', 'path': 'Conditional_statements_If_IfElifElse_Nested If.ipynb', 'sha': '859a85fa55bcfd9aabcf84bbc853b7a9c322a0ae', 'size': 2738, 'url': 'https://api.github.com/repos/dataengineerglenysys/dataengineer/contents/Conditional_statements_If_IfElifElse_Nested%20If.ipynb?ref=main', 'html_url': 'https://github.com/dataengineerglenysys/dataengineer/blob/main/Conditional_statements_If_IfElifElse_Nested%20If.ipynb', 'git_url': 'https://api.github.com/repos/dataengineerglenysys/dataengineer/git/blobs/859a85fa55bcfd9aabcf84bbc853b7a9c322a0ae', 'download_url': 'https://raw.githubusercontent.com/dataengineerglenysys/dataengineer/main/Conditional_statements_If_IfElifElse_Nested%20If.ipynb', 'type': 'file', '_links': {'self': 'https://api.github.com/repos/dataengineerglenysys/dataengineer/contents/Conditional_statements_If_IfElifElse_Nested%20If.ipynb?ref=main', 'git': 'https://api.github.com/repos/dataengineerglenysys/dataengineer/git/blobs/859a85fa55bcfd9aabcf84bbc853b7a9c322a0ae', 'html': 'https://github.com/dataengineerglenysys/dataengineer/blob/main/Conditional_statements_If_IfElifElse_Nested%20If.ipynb'}}, {'name': 'Control_statements__Break_Continue_Pass.ipynb', 'path': 'Control_statements__Break_Continue_Pass.ipynb', 'sha': 'f1d188d5907cd02de4e40ccdad81a2a691ac2f61', 'size': 3303, 'url': 'https://api.github.com/repos/dataengineerglenysys/dataengineer/contents/Control_statements__Break_Continue_Pass.ipynb?ref=main', 'html_url': 'https://github.com/dataengineerglenysys/dataengineer/blob/main/Control_statements__Break_Continue_Pass.ipynb', 'git_url': 'https://api.github.com/repos/dataengineerglenysys/dataengineer/git/blobs/f1d188d5907cd02de4e40ccdad81a2a691ac2f61', 'download_url': 'https://raw.githubusercontent.com/dataengineerglenysys/dataengineer/main/Control_statements__Break_Continue_Pass.ipynb', 'type': 'file', '_links': {'self': 'https://api.github.com/repos/dataengineerglenysys/dataengineer/contents/Control_statements__Break_Continue_Pass.ipynb?ref=main', 'git': 'https://api.github.com/repos/dataengineerglenysys/dataengineer/git/blobs/f1d188d5907cd02de4e40ccdad81a2a691ac2f61', 'html': 'https://github.com/dataengineerglenysys/dataengineer/blob/main/Control_statements__Break_Continue_Pass.ipynb'}}, {'name': 'DataEngineer_Training_Program.pdf', 'path': 'DataEngineer_Training_Program.pdf', 'sha': '347916dcd0f54f9de9d95588bd7613f7c81fc96a', 'size': 430766, 'url': 'https://api.github.com/repos/dataengineerglenysys/dataengineer/contents/DataEngineer_Training_Program.pdf?ref=main', 'html_url': 'https://github.com/dataengineerglenysys/dataengineer/blob/main/DataEngineer_Training_Program.pdf', 'git_url': 'https://api.github.com/repos/dataengineerglenysys/dataengineer/git/blobs/347916dcd0f54f9de9d95588bd7613f7c81fc96a', 'download_url': 'https://raw.githubusercontent.com/dataengineerglenysys/dataengineer/main/DataEngineer_Training_Program.pdf', 'type': 'file', '_links': {'self': 'https://api.github.com/repos/dataengineerglenysys/dataengineer/contents/DataEngineer_Training_Program.pdf?ref=main', 'git': 'https://api.github.com/repos/dataengineerglenysys/dataengineer/git/blobs/347916dcd0f54f9de9d95588bd7613f7c81fc96a', 'html': 'https://github.com/dataengineerglenysys/dataengineer/blob/main/DataEngineer_Training_Program.pdf'}}, {'name': 'DataStructures_List_Tuple_Dictionary_sets .ipynb', 'path': 'DataStructures_List_Tuple_Dictionary_sets .ipynb', 'sha': '549085d9928a1eab664a5ff8350f9e93fb1eb0d2', 'size': 27839, 'url': 'https://api.github.com/repos/dataengineerglenysys/dataengineer/contents/DataStructures_List_Tuple_Dictionary_sets%20.ipynb?ref=main', 'html_url': 'https://github.com/dataengineerglenysys/dataengineer/blob/main/DataStructures_List_Tuple_Dictionary_sets%20.ipynb', 'git_url': 'https://api.github.com/repos/dataengineerglenysys/dataengineer/git/blobs/549085d9928a1eab664a5ff8350f9e93fb1eb0d2', 'download_url': 'https://raw.githubusercontent.com/dataengineerglenysys/dataengineer/main/DataStructures_List_Tuple_Dictionary_sets%20.ipynb', 'type': 'file', '_links': {'self': 'https://api.github.com/repos/dataengineerglenysys/dataengineer/contents/DataStructures_List_Tuple_Dictionary_sets%20.ipynb?ref=main', 'git': 'https://api.github.com/repos/dataengineerglenysys/dataengineer/git/blobs/549085d9928a1eab664a5ff8350f9e93fb1eb0d2', 'html': 'https://github.com/dataengineerglenysys/dataengineer/blob/main/DataStructures_List_Tuple_Dictionary_sets%20.ipynb'}}, {'name': 'Datatypes_TypeCasting.ipynb', 'path': 'Datatypes_TypeCasting.ipynb', 'sha': 'd26a5ddec8a1b54646f70d1cb6546197151b233f', 'size': 3561, 'url': 'https://api.github.com/repos/dataengineerglenysys/dataengineer/contents/Datatypes_TypeCasting.ipynb?ref=main', 'html_url': 'https://github.com/dataengineerglenysys/dataengineer/blob/main/Datatypes_TypeCasting.ipynb', 'git_url': 'https://api.github.com/repos/dataengineerglenysys/dataengineer/git/blobs/d26a5ddec8a1b54646f70d1cb6546197151b233f', 'download_url': 'https://raw.githubusercontent.com/dataengineerglenysys/dataengineer/main/Datatypes_TypeCasting.ipynb', 'type': 'file', '_links': {'self': 'https://api.github.com/repos/dataengineerglenysys/dataengineer/contents/Datatypes_TypeCasting.ipynb?ref=main', 'git': 'https://api.github.com/repos/dataengineerglenysys/dataengineer/git/blobs/d26a5ddec8a1b54646f70d1cb6546197151b233f', 'html': 'https://github.com/dataengineerglenysys/dataengineer/blob/main/Datatypes_TypeCasting.ipynb'}}, {'name': 'Environment_Setup.pdf', 'path': 'Environment_Setup.pdf', 'sha': '147b2cebdf1c31e9fe43b486de317626ac013b8c', 'size': 1200441, 'url': 'https://api.github.com/repos/dataengineerglenysys/dataengineer/contents/Environment_Setup.pdf?ref=main', 'html_url': 'https://github.com/dataengineerglenysys/dataengineer/blob/main/Environment_Setup.pdf', 'git_url': 'https://api.github.com/repos/dataengineerglenysys/dataengineer/git/blobs/147b2cebdf1c31e9fe43b486de317626ac013b8c', 'download_url': 'https://raw.githubusercontent.com/dataengineerglenysys/dataengineer/main/Environment_Setup.pdf', 'type': 'file', '_links': {'self': 'https://api.github.com/repos/dataengineerglenysys/dataengineer/contents/Environment_Setup.pdf?ref=main', 'git': 'https://api.github.com/repos/dataengineerglenysys/dataengineer/git/blobs/147b2cebdf1c31e9fe43b486de317626ac013b8c', 'html': 'https://github.com/dataengineerglenysys/dataengineer/blob/main/Environment_Setup.pdf'}}, {'name': 'File_Open_Close_Read_Write_Append.ipynb', 'path': 'File_Open_Close_Read_Write_Append.ipynb', 'sha': 'fb234a5e1f7fb9e8cb69b176bc32eb8dbf9b1b65', 'size': 8798, 'url': 'https://api.github.com/repos/dataengineerglenysys/dataengineer/contents/File_Open_Close_Read_Write_Append.ipynb?ref=main', 'html_url': 'https://github.com/dataengineerglenysys/dataengineer/blob/main/File_Open_Close_Read_Write_Append.ipynb', 'git_url': 'https://api.github.com/repos/dataengineerglenysys/dataengineer/git/blobs/fb234a5e1f7fb9e8cb69b176bc32eb8dbf9b1b65', 'download_url': 'https://raw.githubusercontent.com/dataengineerglenysys/dataengineer/main/File_Open_Close_Read_Write_Append.ipynb', 'type': 'file', '_links': {'self': 'https://api.github.com/repos/dataengineerglenysys/dataengineer/contents/File_Open_Close_Read_Write_Append.ipynb?ref=main', 'git': 'https://api.github.com/repos/dataengineerglenysys/dataengineer/git/blobs/fb234a5e1f7fb9e8cb69b176bc32eb8dbf9b1b65', 'html': 'https://github.com/dataengineerglenysys/dataengineer/blob/main/File_Open_Close_Read_Write_Append.ipynb'}}, {'name': 'Functions–pass_by_value&reference_arguments_scope_of_variables.ipynb', 'path': 'Functions–pass_by_value&reference_arguments_scope_of_variables.ipynb', 'sha': '36c19f62e7f3577dbd06cc97a81822da33f2f8a7', 'size': 19154, 'url': 'https://api.github.com/repos/dataengineerglenysys/dataengineer/contents/Functions%E2%80%93pass_by_value&reference_arguments_scope_of_variables.ipynb?ref=main', 'html_url': 'https://github.com/dataengineerglenysys/dataengineer/blob/main/Functions%E2%80%93pass_by_value&reference_arguments_scope_of_variables.ipynb', 'git_url': 'https://api.github.com/repos/dataengineerglenysys/dataengineer/git/blobs/36c19f62e7f3577dbd06cc97a81822da33f2f8a7', 'download_url': 'https://raw.githubusercontent.com/dataengineerglenysys/dataengineer/main/Functions%E2%80%93pass_by_value%26reference_arguments_scope_of_variables.ipynb', 'type': 'file', '_links': {'self': 'https://api.github.com/repos/dataengineerglenysys/dataengineer/contents/Functions%E2%80%93pass_by_value&reference_arguments_scope_of_variables.ipynb?ref=main', 'git': 'https://api.github.com/repos/dataengineerglenysys/dataengineer/git/blobs/36c19f62e7f3577dbd06cc97a81822da33f2f8a7', 'html': 'https://github.com/dataengineerglenysys/dataengineer/blob/main/Functions%E2%80%93pass_by_value&reference_arguments_scope_of_variables.ipynb'}}, {'name': 'Loops_While_For_Nested.ipynb', 'path': 'Loops_While_For_Nested.ipynb', 'sha': '99eed14b1c486901d1821f358184464545b08500', 'size': 2280331, 'url': 'https://api.github.com/repos/dataengineerglenysys/dataengineer/contents/Loops_While_For_Nested.ipynb?ref=main', 'html_url': 'https://github.com/dataengineerglenysys/dataengineer/blob/main/Loops_While_For_Nested.ipynb', 'git_url': 'https://api.github.com/repos/dataengineerglenysys/dataengineer/git/blobs/99eed14b1c486901d1821f358184464545b08500', 'download_url': 'https://raw.githubusercontent.com/dataengineerglenysys/dataengineer/main/Loops_While_For_Nested.ipynb', 'type': 'file', '_links': {'self': 'https://api.github.com/repos/dataengineerglenysys/dataengineer/contents/Loops_While_For_Nested.ipynb?ref=main', 'git': 'https://api.github.com/repos/dataengineerglenysys/dataengineer/git/blobs/99eed14b1c486901d1821f358184464545b08500', 'html': 'https://github.com/dataengineerglenysys/dataengineer/blob/main/Loops_While_For_Nested.ipynb'}}, {'name': 'Python -  Keywords, Identifiers, Indentation.ipynb', 'path': 'Python -  Keywords, Identifiers, Indentation.ipynb', 'sha': '4d87b2ee23d0cebfad1d5649c85986f823b4d551', 'size': 4046, 'url': 'https://api.github.com/repos/dataengineerglenysys/dataengineer/contents/Python%20-%20%20Keywords,%20Identifiers,%20Indentation.ipynb?ref=main', 'html_url': 'https://github.com/dataengineerglenysys/dataengineer/blob/main/Python%20-%20%20Keywords,%20Identifiers,%20Indentation.ipynb', 'git_url': 'https://api.github.com/repos/dataengineerglenysys/dataengineer/git/blobs/4d87b2ee23d0cebfad1d5649c85986f823b4d551', 'download_url': 'https://raw.githubusercontent.com/dataengineerglenysys/dataengineer/main/Python%20-%20%20Keywords%2C%20Identifiers%2C%20Indentation.ipynb', 'type': 'file', '_links': {'self': 'https://api.github.com/repos/dataengineerglenysys/dataengineer/contents/Python%20-%20%20Keywords,%20Identifiers,%20Indentation.ipynb?ref=main', 'git': 'https://api.github.com/repos/dataengineerglenysys/dataengineer/git/blobs/4d87b2ee23d0cebfad1d5649c85986f823b4d551', 'html': 'https://github.com/dataengineerglenysys/dataengineer/blob/main/Python%20-%20%20Keywords,%20Identifiers,%20Indentation.ipynb'}}, {'name': 'Python Operators.ipynb', 'path': 'Python Operators.ipynb', 'sha': '1ffe797f3b87e8b4d1ba8823c6238549f87268bc', 'size': 5678, 'url': 'https://api.github.com/repos/dataengineerglenysys/dataengineer/contents/Python%20Operators.ipynb?ref=main', 'html_url': 'https://github.com/dataengineerglenysys/dataengineer/blob/main/Python%20Operators.ipynb', 'git_url': 'https://api.github.com/repos/dataengineerglenysys/dataengineer/git/blobs/1ffe797f3b87e8b4d1ba8823c6238549f87268bc', 'download_url': 'https://raw.githubusercontent.com/dataengineerglenysys/dataengineer/main/Python%20Operators.ipynb', 'type': 'file', '_links': {'self': 'https://api.github.com/repos/dataengineerglenysys/dataengineer/contents/Python%20Operators.ipynb?ref=main', 'git': 'https://api.github.com/repos/dataengineerglenysys/dataengineer/git/blobs/1ffe797f3b87e8b4d1ba8823c6238549f87268bc', 'html': 'https://github.com/dataengineerglenysys/dataengineer/blob/main/Python%20Operators.ipynb'}}, {'name': 'Python Variables.ipynb', 'path': 'Python Variables.ipynb', 'sha': '8ca973fc1478cc78d36863ad6c37c54b23b1fb94', 'size': 12893, 'url': 'https://api.github.com/repos/dataengineerglenysys/dataengineer/contents/Python%20Variables.ipynb?ref=main', 'html_url': 'https://github.com/dataengineerglenysys/dataengineer/blob/main/Python%20Variables.ipynb', 'git_url': 'https://api.github.com/repos/dataengineerglenysys/dataengineer/git/blobs/8ca973fc1478cc78d36863ad6c37c54b23b1fb94', 'download_url': 'https://raw.githubusercontent.com/dataengineerglenysys/dataengineer/main/Python%20Variables.ipynb', 'type': 'file', '_links': {'self': 'https://api.github.com/repos/dataengineerglenysys/dataengineer/contents/Python%20Variables.ipynb?ref=main', 'git': 'https://api.github.com/repos/dataengineerglenysys/dataengineer/git/blobs/8ca973fc1478cc78d36863ad6c37c54b23b1fb94', 'html': 'https://github.com/dataengineerglenysys/dataengineer/blob/main/Python%20Variables.ipynb'}}, {'name': 'README.md', 'path': 'README.md', 'sha': '12ee5e0d0b4eec6aabbf8dcef6a0b689421f5a85', 'size': 41, 'url': 'https://api.github.com/repos/dataengineerglenysys/dataengineer/contents/README.md?ref=main', 'html_url': 'https://github.com/dataengineerglenysys/dataengineer/blob/main/README.md', 'git_url': 'https://api.github.com/repos/dataengineerglenysys/dataengineer/git/blobs/12ee5e0d0b4eec6aabbf8dcef6a0b689421f5a85', 'download_url': 'https://raw.githubusercontent.com/dataengineerglenysys/dataengineer/main/README.md', 'type': 'file', '_links': {'self': 'https://api.github.com/repos/dataengineerglenysys/dataengineer/contents/README.md?ref=main', 'git': 'https://api.github.com/repos/dataengineerglenysys/dataengineer/git/blobs/12ee5e0d0b4eec6aabbf8dcef6a0b689421f5a85', 'html': 'https://github.com/dataengineerglenysys/dataengineer/blob/main/README.md'}}, {'name': 'python_various_ways_of_executing.pdf', 'path': 'python_various_ways_of_executing.pdf', 'sha': 'd6db812beee8dfd4319f42a33051af220f16d853', 'size': 671098, 'url': 'https://api.github.com/repos/dataengineerglenysys/dataengineer/contents/python_various_ways_of_executing.pdf?ref=main', 'html_url': 'https://github.com/dataengineerglenysys/dataengineer/blob/main/python_various_ways_of_executing.pdf', 'git_url': 'https://api.github.com/repos/dataengineerglenysys/dataengineer/git/blobs/d6db812beee8dfd4319f42a33051af220f16d853', 'download_url': 'https://raw.githubusercontent.com/dataengineerglenysys/dataengineer/main/python_various_ways_of_executing.pdf', 'type': 'file', '_links': {'self': 'https://api.github.com/repos/dataengineerglenysys/dataengineer/contents/python_various_ways_of_executing.pdf?ref=main', 'git': 'https://api.github.com/repos/dataengineerglenysys/dataengineer/git/blobs/d6db812beee8dfd4319f42a33051af220f16d853', 'html': 'https://github.com/dataengineerglenysys/dataengineer/blob/main/python_various_ways_of_executing.pdf'}}, {'name': 'version_check.py', 'path': 'version_check.py', 'sha': '2b654e1f8f73921ac53df49ffec36ed3a7921a36', 'size': 54, 'url': 'https://api.github.com/repos/dataengineerglenysys/dataengineer/contents/version_check.py?ref=main', 'html_url': 'https://github.com/dataengineerglenysys/dataengineer/blob/main/version_check.py', 'git_url': 'https://api.github.com/repos/dataengineerglenysys/dataengineer/git/blobs/2b654e1f8f73921ac53df49ffec36ed3a7921a36', 'download_url': 'https://raw.githubusercontent.com/dataengineerglenysys/dataengineer/main/version_check.py', 'type': 'file', '_links': {'self': 'https://api.github.com/repos/dataengineerglenysys/dataengineer/contents/version_check.py?ref=main', 'git': 'https://api.github.com/repos/dataengineerglenysys/dataengineer/git/blobs/2b654e1f8f73921ac53df49ffec36ed3a7921a36', 'html': 'https://github.com/dataengineerglenysys/dataengineer/blob/main/version_check.py'}}]\n"
     ]
    }
   ],
   "source": [
    "print(response.json())"
   ]
  },
  {
   "cell_type": "markdown",
   "metadata": {},
   "source": [
    "# Dictionary to JSON conversion"
   ]
  },
  {
   "cell_type": "code",
   "execution_count": 11,
   "metadata": {},
   "outputs": [
    {
     "name": "stdout",
     "output_type": "stream",
     "text": [
      "['JSONDecodeError', 'JSONDecoder', 'JSONEncoder', '__all__', '__author__', '__builtins__', '__cached__', '__doc__', '__file__', '__loader__', '__name__', '__package__', '__path__', '__spec__', '__version__', '_default_decoder', '_default_encoder', 'codecs', 'decoder', 'detect_encoding', 'dump', 'dumps', 'encoder', 'load', 'loads', 'scanner']\n"
     ]
    }
   ],
   "source": [
    "import json \n",
    "print(dir(json))"
   ]
  },
  {
   "cell_type": "code",
   "execution_count": 12,
   "metadata": {},
   "outputs": [
    {
     "name": "stdout",
     "output_type": "stream",
     "text": [
      "{\n",
      "    \"name\": \"Conditional_statements_If_IfElifElse_Nested If.ipynb\",\n",
      "    \"path\": \"Conditional_statements_If_IfElifElse_Nested If.ipynb\",\n",
      "    \"sha\": \"859a85fa55bcfd9aabcf84bbc853b7a9c322a0ae\",\n",
      "    \"size\": 2738,\n",
      "    \"url\": \"https://api.github.com/repos/dataengineerglenysys/dataengineer/contents/Conditional_statements_If_IfElifElse_Nested%20If.ipynb?ref=main\",\n",
      "    \"html_url\": \"https://github.com/dataengineerglenysys/dataengineer/blob/main/Conditional_statements_If_IfElifElse_Nested%20If.ipynb\",\n",
      "    \"git_url\": \"https://api.github.com/repos/dataengineerglenysys/dataengineer/git/blobs/859a85fa55bcfd9aabcf84bbc853b7a9c322a0ae\",\n",
      "    \"download_url\": \"https://raw.githubusercontent.com/dataengineerglenysys/dataengineer/main/Conditional_statements_If_IfElifElse_Nested%20If.ipynb\",\n",
      "    \"type\": \"file\",\n",
      "    \"_links\": {\n",
      "        \"self\": \"https://api.github.com/repos/dataengineerglenysys/dataengineer/contents/Conditional_statements_If_IfElifElse_Nested%20If.ipynb?ref=main\",\n",
      "        \"git\": \"https://api.github.com/repos/dataengineerglenysys/dataengineer/git/blobs/859a85fa55bcfd9aabcf84bbc853b7a9c322a0ae\",\n",
      "        \"html\": \"https://github.com/dataengineerglenysys/dataengineer/blob/main/Conditional_statements_If_IfElifElse_Nested%20If.ipynb\"\n",
      "    }\n",
      "}\n"
     ]
    },
    {
     "data": {
      "text/plain": [
       "str"
      ]
     },
     "execution_count": 12,
     "metadata": {},
     "output_type": "execute_result"
    }
   ],
   "source": [
    "import json  \n",
    "# dumps is used to convert from dictionary to json object\n",
    "json_data = json.dumps(data, indent = 4)  \n",
    "print(json_data)\n",
    "type(json_data)"
   ]
  },
  {
   "cell_type": "markdown",
   "metadata": {},
   "source": [
    "# Dictionary to XML conversion"
   ]
  },
  {
   "cell_type": "code",
   "execution_count": 61,
   "metadata": {},
   "outputs": [
    {
     "ename": "ModuleNotFoundError",
     "evalue": "No module named 'dicttoxml'",
     "output_type": "error",
     "traceback": [
      "\u001b[1;31m---------------------------------------------------------------------------\u001b[0m",
      "\u001b[1;31mModuleNotFoundError\u001b[0m                       Traceback (most recent call last)",
      "\u001b[1;32m<ipython-input-61-0c283396dd22>\u001b[0m in \u001b[0;36m<module>\u001b[1;34m\u001b[0m\n\u001b[1;32m----> 1\u001b[1;33m \u001b[1;32mfrom\u001b[0m \u001b[0mdicttoxml\u001b[0m \u001b[1;32mimport\u001b[0m \u001b[0mdicttoxml\u001b[0m\u001b[1;33m\u001b[0m\u001b[1;33m\u001b[0m\u001b[0m\n\u001b[0m\u001b[0;32m      2\u001b[0m \u001b[0mxml_data\u001b[0m \u001b[1;33m=\u001b[0m \u001b[0mdicttoxml\u001b[0m\u001b[1;33m(\u001b[0m\u001b[0mdata\u001b[0m\u001b[1;33m)\u001b[0m\u001b[1;33m\u001b[0m\u001b[1;33m\u001b[0m\u001b[0m\n\u001b[0;32m      3\u001b[0m \u001b[0mprint\u001b[0m\u001b[1;33m(\u001b[0m\u001b[0mxml_data\u001b[0m\u001b[1;33m)\u001b[0m\u001b[1;33m\u001b[0m\u001b[1;33m\u001b[0m\u001b[0m\n",
      "\u001b[1;31mModuleNotFoundError\u001b[0m: No module named 'dicttoxml'"
     ]
    }
   ],
   "source": [
    "import dicttoxml"
   ]
  },
  {
   "cell_type": "code",
   "execution_count": 62,
   "metadata": {},
   "outputs": [
    {
     "name": "stdout",
     "output_type": "stream",
     "text": [
      "Collecting dicttoxml\n",
      "  Downloading dicttoxml-1.7.4.tar.gz (18 kB)\n",
      "Building wheels for collected packages: dicttoxml\n",
      "  Building wheel for dicttoxml (setup.py): started\n",
      "  Building wheel for dicttoxml (setup.py): finished with status 'done'\n",
      "  Created wheel for dicttoxml: filename=dicttoxml-1.7.4-py3-none-any.whl size=17457 sha256=f5dc53abc1c36c685c3561c42cd599e0d929ebb0905c312211856deeea8b5760\n",
      "  Stored in directory: c:\\users\\dbreddy\\appdata\\local\\pip\\cache\\wheels\\6c\\32\\1d\\09f338b837cdbb71f8889b866d50db3e0eaa02b8fc2be4c943\n",
      "Successfully built dicttoxml\n",
      "Installing collected packages: dicttoxml\n",
      "Successfully installed dicttoxml-1.7.4\n"
     ]
    }
   ],
   "source": [
    "# conda install -c conda-forge dicttoxml --> Run in Anaconda prompt\n",
    "!pip install dicttoxml"
   ]
  },
  {
   "cell_type": "code",
   "execution_count": 13,
   "metadata": {},
   "outputs": [
    {
     "name": "stdout",
     "output_type": "stream",
     "text": [
      "['LOG', '__builtins__', '__cached__', '__doc__', '__file__', '__loader__', '__name__', '__package__', '__spec__', '__version__', 'collections', 'convert', 'convert_bool', 'convert_dict', 'convert_kv', 'convert_list', 'convert_none', 'default_item_func', 'dicttoxml', 'escape_xml', 'get_unique_id', 'get_xml_type', 'ids', 'key_is_valid_xml', 'logging', 'long', 'make_attrstring', 'make_id', 'make_valid_xml_name', 'numbers', 'parseString', 'randint', 'set_debug', 'unicode', 'unicode_literals', 'unicode_me', 'version', 'wrap_cdata']\n"
     ]
    }
   ],
   "source": [
    "import dicttoxml\n",
    "print(dir(dicttoxml))"
   ]
  },
  {
   "cell_type": "code",
   "execution_count": 14,
   "metadata": {},
   "outputs": [
    {
     "name": "stdout",
     "output_type": "stream",
     "text": [
      "b'<?xml version=\"1.0\" encoding=\"UTF-8\" ?><root><name type=\"str\">Conditional_statements_If_IfElifElse_Nested If.ipynb</name><path type=\"str\">Conditional_statements_If_IfElifElse_Nested If.ipynb</path><sha type=\"str\">859a85fa55bcfd9aabcf84bbc853b7a9c322a0ae</sha><size type=\"int\">2738</size><url type=\"str\">https://api.github.com/repos/dataengineerglenysys/dataengineer/contents/Conditional_statements_If_IfElifElse_Nested%20If.ipynb?ref=main</url><html_url type=\"str\">https://github.com/dataengineerglenysys/dataengineer/blob/main/Conditional_statements_If_IfElifElse_Nested%20If.ipynb</html_url><git_url type=\"str\">https://api.github.com/repos/dataengineerglenysys/dataengineer/git/blobs/859a85fa55bcfd9aabcf84bbc853b7a9c322a0ae</git_url><download_url type=\"str\">https://raw.githubusercontent.com/dataengineerglenysys/dataengineer/main/Conditional_statements_If_IfElifElse_Nested%20If.ipynb</download_url><type type=\"str\">file</type><_links type=\"dict\"><self type=\"str\">https://api.github.com/repos/dataengineerglenysys/dataengineer/contents/Conditional_statements_If_IfElifElse_Nested%20If.ipynb?ref=main</self><git type=\"str\">https://api.github.com/repos/dataengineerglenysys/dataengineer/git/blobs/859a85fa55bcfd9aabcf84bbc853b7a9c322a0ae</git><html type=\"str\">https://github.com/dataengineerglenysys/dataengineer/blob/main/Conditional_statements_If_IfElifElse_Nested%20If.ipynb</html></_links></root>'\n",
      "<class 'bytes'>\n"
     ]
    }
   ],
   "source": [
    "from dicttoxml import dicttoxml\n",
    "xml_data = dicttoxml(data)\n",
    "print(xml_data)\n",
    "print(type(xml_data))"
   ]
  },
  {
   "cell_type": "code",
   "execution_count": null,
   "metadata": {},
   "outputs": [],
   "source": []
  }
 ],
 "metadata": {
  "kernelspec": {
   "display_name": "Python 3",
   "language": "python",
   "name": "python3"
  },
  "language_info": {
   "codemirror_mode": {
    "name": "ipython",
    "version": 3
   },
   "file_extension": ".py",
   "mimetype": "text/x-python",
   "name": "python",
   "nbconvert_exporter": "python",
   "pygments_lexer": "ipython3",
   "version": "3.8.5"
  }
 },
 "nbformat": 4,
 "nbformat_minor": 4
}
