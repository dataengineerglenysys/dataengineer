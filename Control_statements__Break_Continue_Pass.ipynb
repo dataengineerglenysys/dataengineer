{
 "cells": [
  {
   "cell_type": "markdown",
   "metadata": {},
   "source": [
    "# Break Statement"
   ]
  },
  {
   "cell_type": "markdown",
   "metadata": {},
   "source": [
    "The break statement allows you to leave a for or while loop prematurely."
   ]
  },
  {
   "cell_type": "code",
   "execution_count": 1,
   "metadata": {},
   "outputs": [
    {
     "name": "stdout",
     "output_type": "stream",
     "text": [
      "Number is 0\n",
      "Number is 1\n",
      "Number is 2\n",
      "Number is 3\n",
      "Out of loop\n"
     ]
    }
   ],
   "source": [
    "x = 0\n",
    "# [0,1,2,3,4,5,6,7]\n",
    "for x in range(8):\n",
    "    if x == 4:\n",
    "        break    # break here\n",
    "\n",
    "    print('Number is ' + str(x))\n",
    "\n",
    "print('Out of loop')"
   ]
  },
  {
   "cell_type": "markdown",
   "metadata": {},
   "source": [
    "# Continue Statement"
   ]
  },
  {
   "cell_type": "markdown",
   "metadata": {},
   "source": [
    "continue does not halt the loop like break does, but rather skips and carries on to the next iteration when condition satisfies"
   ]
  },
  {
   "cell_type": "code",
   "execution_count": 7,
   "metadata": {},
   "outputs": [
    {
     "name": "stdout",
     "output_type": "stream",
     "text": [
      "Number is 0\n",
      "Number is 1\n",
      "Number is 2\n",
      "Number is 3\n",
      "Number is 5\n",
      "Number is 6\n",
      "Number is 7\n",
      "Out of loop\n"
     ]
    }
   ],
   "source": [
    "x = 0\n",
    "# [0,1,2,3,4,5,6,7]\n",
    "for x in range(8):\n",
    "    if x == 4:\n",
    "        continue    # continue here\n",
    "\n",
    "    print('Number is ' + str(x))\n",
    "\n",
    "print('Out of loop')"
   ]
  },
  {
   "cell_type": "markdown",
   "metadata": {},
   "source": [
    "# Pass Statement"
   ]
  },
  {
   "cell_type": "markdown",
   "metadata": {},
   "source": [
    "Nothing happens when pass is executed.Python pass statement resembles a null operation."
   ]
  },
  {
   "cell_type": "code",
   "execution_count": 3,
   "metadata": {},
   "outputs": [
    {
     "name": "stdout",
     "output_type": "stream",
     "text": [
      "Number is 0\n",
      "Number is 1\n",
      "Number is 2\n",
      "Number is 3\n",
      "Number is 4\n",
      "Number is 5\n",
      "Number is 6\n",
      "Number is 7\n",
      "Out of loop\n"
     ]
    }
   ],
   "source": [
    "x = 0\n",
    "# [0,1,2,3,4,5,6,7]\n",
    "for x in range(8):\n",
    "    if x == 4:\n",
    "        pass    # pass here\n",
    "\n",
    "    print('Number is ' + str(x))\n",
    "\n",
    "print('Out of loop')"
   ]
  },
  {
   "cell_type": "code",
   "execution_count": null,
   "metadata": {},
   "outputs": [],
   "source": []
  },
  {
   "cell_type": "code",
   "execution_count": null,
   "metadata": {},
   "outputs": [],
   "source": []
  }
 ],
 "metadata": {
  "kernelspec": {
   "display_name": "Python 3",
   "language": "python",
   "name": "python3"
  },
  "language_info": {
   "codemirror_mode": {
    "name": "ipython",
    "version": 3
   },
   "file_extension": ".py",
   "mimetype": "text/x-python",
   "name": "python",
   "nbconvert_exporter": "python",
   "pygments_lexer": "ipython3",
   "version": "3.8.5"
  }
 },
 "nbformat": 4,
 "nbformat_minor": 4
}
