{
 "cells": [
  {
   "cell_type": "markdown",
   "metadata": {},
   "source": [
    "class is a keyword"
   ]
  },
  {
   "cell_type": "markdown",
   "metadata": {},
   "source": [
    "The self-argument refers to the object itself"
   ]
  },
  {
   "cell_type": "code",
   "execution_count": 2,
   "metadata": {},
   "outputs": [
    {
     "name": "stdout",
     "output_type": "stream",
     "text": [
      "<__main__.class1 object at 0x000001AE1E1CFBE0>\n",
      "this is method1 print statement\n",
      "this is method2 print statement:abcdef\n"
     ]
    }
   ],
   "source": [
    "class class1():\n",
    "  def method1(self):\n",
    "      print(\"this is method1 print statement\")\n",
    "        \n",
    "  def method2(self,x):    \n",
    "      print(\"this is method2 print statement:\" + x)\n",
    "  \n",
    "      \n",
    "def main():           \n",
    "  c = class1()         # create an object of the class\n",
    "  print(c)\n",
    "  c.method1()          # call a method in a class\n",
    "  c.method2(\"abcdef\")  # call a method in a class by sending argument x value\n",
    "  \n",
    "if __name__== \"__main__\":\n",
    "  main()"
   ]
  },
  {
   "cell_type": "code",
   "execution_count": 8,
   "metadata": {},
   "outputs": [
    {
     "name": "stdout",
     "output_type": "stream",
     "text": [
      "The samsung mobile rate is 500$\n",
      "The blackberry mobile rate is 400$\n",
      "<__main__.mobile object at 0x000001AE1E20CFA0>\n",
      "<__main__.mobile object at 0x000001AE1E20C0D0>\n"
     ]
    }
   ],
   "source": [
    "#Creating more than one object of a class, mulitple objects\n",
    "#__init__() method is also known as the constructor method\n",
    "#We call a constructor method whenever an object of the class is constructed\n",
    "#the first parameter of this __init__() method has to be self arg.\n",
    "#The methods defined inside a class other than the constructor method are known as the instance methods.\n",
    "\n",
    "class mobile():\n",
    "    def __init__(self, name, ram):\n",
    "        self.name = name \n",
    "        self.ram = ram \n",
    "\n",
    "    def mobile_rate(self, rate):\n",
    "        return f\"The {self.name} mobile rate is {rate}$\"\n",
    "\n",
    "x = mobile(\"samsung\",4)\n",
    "print(x.mobile_rate(500))\n",
    "\n",
    "y = mobile(\"blackberry\",6)\n",
    "print(y.mobile_rate(400))\n",
    "\n",
    "print(x)\n",
    "print(y)"
   ]
  },
  {
   "cell_type": "markdown",
   "metadata": {},
   "source": [
    "# Inheritance "
   ]
  },
  {
   "cell_type": "code",
   "execution_count": 10,
   "metadata": {},
   "outputs": [
    {
     "name": "stdout",
     "output_type": "stream",
     "text": [
      "The sonet car gives the mileage of 20km/lit\n"
     ]
    }
   ],
   "source": [
    "class Hyundai:          #parent class\n",
    "\n",
    "    def __init__(self, name, mileage):\n",
    "        self.name = name \n",
    "        self.mileage = mileage \n",
    "\n",
    "    def description(self):                \n",
    "        return f\"The {self.name} car gives the mileage of {self.mileage}km/lit\"\n",
    "\n",
    "class KIA(Hyundai):     #child class\n",
    "    def kia_desc(self):\n",
    "        return \"This is the description method of class KIA.\"\n",
    "    \n",
    "print(KIA(\"sonet\",20).description())"
   ]
  },
  {
   "cell_type": "markdown",
   "metadata": {},
   "source": [
    "# Encapsulation"
   ]
  },
  {
   "cell_type": "code",
   "execution_count": 22,
   "metadata": {},
   "outputs": [
    {
     "name": "stdout",
     "output_type": "stream",
     "text": [
      "The kia car gives the mileage of 20km/lit\n",
      "20\n"
     ]
    },
    {
     "ename": "AttributeError",
     "evalue": "'Hyundai' object has no attribute '__name'",
     "output_type": "error",
     "traceback": [
      "\u001b[1;31m---------------------------------------------------------------------------\u001b[0m",
      "\u001b[1;31mAttributeError\u001b[0m                            Traceback (most recent call last)",
      "\u001b[1;32m<ipython-input-22-ad83fdbc561b>\u001b[0m in \u001b[0;36m<module>\u001b[1;34m\u001b[0m\n\u001b[0;32m     15\u001b[0m \u001b[1;31m#accessing private variable directly from outside\u001b[0m\u001b[1;33m\u001b[0m\u001b[1;33m\u001b[0m\u001b[1;33m\u001b[0m\u001b[0m\n\u001b[0;32m     16\u001b[0m \u001b[0mprint\u001b[0m\u001b[1;33m(\u001b[0m\u001b[0mx\u001b[0m\u001b[1;33m.\u001b[0m\u001b[0mmileage\u001b[0m\u001b[1;33m)\u001b[0m\u001b[1;33m\u001b[0m\u001b[1;33m\u001b[0m\u001b[0m\n\u001b[1;32m---> 17\u001b[1;33m \u001b[0mprint\u001b[0m\u001b[1;33m(\u001b[0m\u001b[0mx\u001b[0m\u001b[1;33m.\u001b[0m\u001b[0m__name\u001b[0m\u001b[1;33m)\u001b[0m\u001b[1;33m\u001b[0m\u001b[1;33m\u001b[0m\u001b[0m\n\u001b[0m",
      "\u001b[1;31mAttributeError\u001b[0m: 'Hyundai' object has no attribute '__name'"
     ]
    }
   ],
   "source": [
    "class Hyundai:\n",
    "\n",
    "    def __init__(self, name, mileage):\n",
    "        self.__name = name              #private variable        \n",
    "        self.mileage = mileage \n",
    "\n",
    "    def description(self):                \n",
    "        return f\"The {self.__name} car gives the mileage of {self.mileage}km/lit\"\n",
    "\n",
    "x = Hyundai(\"kia\",20)\n",
    "\n",
    "#accessing private variable via class method \n",
    "print(x.description())\n",
    "\n",
    "#accessing private variable directly from outside\n",
    "print(x.mileage)\n",
    "print(x.__name)"
   ]
  },
  {
   "cell_type": "markdown",
   "metadata": {},
   "source": [
    "# Polymorphism"
   ]
  },
  {
   "cell_type": "code",
   "execution_count": 12,
   "metadata": {},
   "outputs": [
    {
     "name": "stdout",
     "output_type": "stream",
     "text": [
      "This is the description function of class Hyundai.\n",
      "This is the description function of class kia.\n"
     ]
    }
   ],
   "source": [
    "# different classes which will have class methods with same name\n",
    "class Hyundai:\n",
    "  def description(self):\n",
    "    print(\"This is the description function of class Hyundai.\")\n",
    "\n",
    "class KIA:\n",
    "  def description(self):\n",
    "    print(\"This is the description function of class kia.\")\n",
    "\n",
    "Hyundai = Hyundai()\n",
    "kia = KIA()\n",
    "for car in (Hyundai,kia):\n",
    "    car.description()"
   ]
  },
  {
   "cell_type": "markdown",
   "metadata": {},
   "source": [
    "# Data abstraction"
   ]
  },
  {
   "cell_type": "code",
   "execution_count": 13,
   "metadata": {},
   "outputs": [
    {
     "name": "stdout",
     "output_type": "stream",
     "text": [
      "This is the description function of class Hyundai.\n",
      "The sonet's price is 10 lakhs.\n"
     ]
    }
   ],
   "source": [
    "from abc import ABC, abstractmethod\n",
    "\n",
    "class Hyundai(ABC):\n",
    "    def __init__(self,name):\n",
    "        self.name = name\n",
    "\n",
    "    def description(self):\n",
    "        print(\"This is the description function of class Hyundai.\")\n",
    "\n",
    "    @abstractmethod\n",
    "    def price(self,x):\n",
    "        pass\n",
    "class kia(Hyundai):\n",
    "    def price(self,x):\n",
    "        print(f\"The {self.name}'s price is {x} lakhs.\")\n",
    "\n",
    "        \n",
    "obj = kia(\"sonet\")\n",
    "obj.description()\n",
    "obj.price(10)"
   ]
  },
  {
   "cell_type": "code",
   "execution_count": null,
   "metadata": {},
   "outputs": [],
   "source": []
  }
 ],
 "metadata": {
  "kernelspec": {
   "display_name": "Python 3",
   "language": "python",
   "name": "python3"
  },
  "language_info": {
   "codemirror_mode": {
    "name": "ipython",
    "version": 3
   },
   "file_extension": ".py",
   "mimetype": "text/x-python",
   "name": "python",
   "nbconvert_exporter": "python",
   "pygments_lexer": "ipython3",
   "version": "3.8.5"
  }
 },
 "nbformat": 4,
 "nbformat_minor": 4
}
