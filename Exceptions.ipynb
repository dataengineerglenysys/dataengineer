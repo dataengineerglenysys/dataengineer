{
 "cells": [
  {
   "cell_type": "code",
   "execution_count": 16,
   "metadata": {},
   "outputs": [
    {
     "name": "stdout",
     "output_type": "stream",
     "text": [
      "['False', 'None', 'True', 'and', 'as', 'assert', 'async', 'await', 'break', 'class', 'continue', 'def', 'del', 'elif', 'else', 'except', 'finally', 'for', 'from', 'global', 'if', 'import', 'in', 'is', 'lambda', 'nonlocal', 'not', 'or', 'pass', 'raise', 'return', 'try', 'while', 'with', 'yield']\n"
     ]
    }
   ],
   "source": [
    "import keyword\n",
    "print(keyword.kwlist)"
   ]
  },
  {
   "cell_type": "code",
   "execution_count": 1,
   "metadata": {},
   "outputs": [
    {
     "name": "stdout",
     "output_type": "stream",
     "text": [
      "Some issue encountered\n"
     ]
    }
   ],
   "source": [
    "x = 3\n",
    "y = 0\n",
    "try:\n",
    "    print(x/y)\n",
    "except:\n",
    "    print('Some issue encountered')"
   ]
  },
  {
   "cell_type": "code",
   "execution_count": 4,
   "metadata": {},
   "outputs": [
    {
     "name": "stdout",
     "output_type": "stream",
     "text": [
      "Division by zero not allowed\n"
     ]
    }
   ],
   "source": [
    "x = 3\n",
    "y = 0\n",
    "try:\n",
    "    print(x/y)\n",
    "except TypeError:\n",
    "    print('x & y are different datatypes')\n",
    "except ZeroDivisionError:\n",
    "    print('Division by zero not allowed')"
   ]
  },
  {
   "cell_type": "code",
   "execution_count": 3,
   "metadata": {},
   "outputs": [
    {
     "name": "stdout",
     "output_type": "stream",
     "text": [
      "x & y are different datatypes\n"
     ]
    }
   ],
   "source": [
    "x = 3\n",
    "y = 'glenysys'\n",
    "try:\n",
    "    print(x + y)\n",
    "except TypeError:\n",
    "    print('x & y are different datatypes')\n",
    "except ZeroDivisionError:\n",
    "    print('Division by zero not allowed')"
   ]
  },
  {
   "cell_type": "code",
   "execution_count": 6,
   "metadata": {},
   "outputs": [
    {
     "name": "stdout",
     "output_type": "stream",
     "text": [
      "x & y are different datatypes\n",
      "finally block is executed irrespective of exception occured or not\n"
     ]
    }
   ],
   "source": [
    "x = 3\n",
    "y = 'abcdef'\n",
    "try:\n",
    "    print(x + y)\n",
    "except TypeError:\n",
    "    print('x & y are different datatypes')\n",
    "except ZeroDivisionError:\n",
    "    print('executed when error in try block - Division by zero not allowed')\n",
    "else:\n",
    "    print(\"else block is executed only if try block is error-free\")\n",
    "finally:\n",
    "    print(\"finally block is executed irrespective of exception occured or not\")"
   ]
  },
  {
   "cell_type": "code",
   "execution_count": 7,
   "metadata": {},
   "outputs": [
    {
     "name": "stdout",
     "output_type": "stream",
     "text": [
      "Enter a number : 5000\n",
      "5000 is out of allowed range\n"
     ]
    }
   ],
   "source": [
    "x=int(input('Enter a number : '))\n",
    "try:\n",
    "    if x > 100:\n",
    "        raise ValueError(x)\n",
    "except ValueError:\n",
    "    print(x, \"is out of allowed range\")\n",
    "else:\n",
    "    print(x, \"is within the allowed range\")"
   ]
  },
  {
   "cell_type": "code",
   "execution_count": null,
   "metadata": {},
   "outputs": [],
   "source": []
  }
 ],
 "metadata": {
  "kernelspec": {
   "display_name": "Python 3",
   "language": "python",
   "name": "python3"
  },
  "language_info": {
   "codemirror_mode": {
    "name": "ipython",
    "version": 3
   },
   "file_extension": ".py",
   "mimetype": "text/x-python",
   "name": "python",
   "nbconvert_exporter": "python",
   "pygments_lexer": "ipython3",
   "version": "3.8.5"
  }
 },
 "nbformat": 4,
 "nbformat_minor": 4
}
