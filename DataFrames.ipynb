{
 "cells": [
  {
   "cell_type": "code",
   "execution_count": 1,
   "metadata": {},
   "outputs": [
    {
     "data": {
      "text/plain": [
       "'C:\\\\Users\\\\DBREDDY\\\\Spark'"
      ]
     },
     "execution_count": 1,
     "metadata": {},
     "output_type": "execute_result"
    }
   ],
   "source": [
    "# SPARK_HOME path Test\n",
    "import findspark\n",
    "findspark.init()\n",
    "import pyspark\n",
    "findspark.find()"
   ]
  },
  {
   "cell_type": "code",
   "execution_count": 2,
   "metadata": {},
   "outputs": [],
   "source": [
    "import pyspark\n",
    "from pyspark import SparkContext, SparkConf\n",
    "from pyspark.sql import SparkSession\n",
    "conf = pyspark.SparkConf().setAppName('DataFrame').setMaster('local')\n",
    "sc = pyspark.SparkContext(conf=conf)\n",
    "spark = SparkSession(sc)"
   ]
  },
  {
   "cell_type": "code",
   "execution_count": 3,
   "metadata": {},
   "outputs": [
    {
     "name": "stdout",
     "output_type": "stream",
     "text": [
      "['Builder', '__class__', '__delattr__', '__dict__', '__dir__', '__doc__', '__enter__', '__eq__', '__exit__', '__format__', '__ge__', '__getattribute__', '__gt__', '__hash__', '__init__', '__init_subclass__', '__le__', '__lt__', '__module__', '__ne__', '__new__', '__reduce__', '__reduce_ex__', '__repr__', '__setattr__', '__sizeof__', '__str__', '__subclasshook__', '__weakref__', '_activeSession', '_convert_from_pandas', '_createFromLocal', '_createFromRDD', '_create_dataframe', '_create_from_pandas_with_arrow', '_create_shell_session', '_get_numpy_record_dtype', '_inferSchema', '_inferSchemaFromList', '_instantiatedSession', '_jsc', '_jsparkSession', '_jvm', '_jwrapped', '_repr_html_', '_sc', '_wrapped', 'builder', 'catalog', 'conf', 'createDataFrame', 'getActiveSession', 'newSession', 'range', 'read', 'readStream', 'sparkContext', 'sql', 'stop', 'streams', 'table', 'udf', 'version']\n"
     ]
    }
   ],
   "source": [
    "print(dir(spark))"
   ]
  },
  {
   "cell_type": "code",
   "execution_count": 4,
   "metadata": {},
   "outputs": [
    {
     "name": "stdout",
     "output_type": "stream",
     "text": [
      "['__class__', '__delattr__', '__dict__', '__dir__', '__doc__', '__eq__', '__format__', '__ge__', '__getattribute__', '__gt__', '__hash__', '__init__', '__init_subclass__', '__le__', '__lt__', '__module__', '__ne__', '__new__', '__reduce__', '__reduce_ex__', '__repr__', '__setattr__', '__sizeof__', '__str__', '__subclasshook__', '__weakref__', '_df', '_jreader', '_set_opts', '_spark', 'csv', 'format', 'jdbc', 'json', 'load', 'option', 'options', 'orc', 'parquet', 'schema', 'table', 'text']\n"
     ]
    }
   ],
   "source": [
    "print(dir(spark.read))"
   ]
  },
  {
   "cell_type": "code",
   "execution_count": 4,
   "metadata": {},
   "outputs": [],
   "source": [
    "df = spark.read.csv(\"machine-readable-business-employment-data-dec-2020-quarter.csv\",inferSchema = True, header = True)"
   ]
  },
  {
   "cell_type": "code",
   "execution_count": 46,
   "metadata": {},
   "outputs": [
    {
     "name": "stdout",
     "output_type": "stream",
     "text": [
      "['__class__', '__delattr__', '__dict__', '__dir__', '__doc__', '__eq__', '__format__', '__ge__', '__getattr__', '__getattribute__', '__getitem__', '__gt__', '__hash__', '__init__', '__init_subclass__', '__le__', '__lt__', '__module__', '__ne__', '__new__', '__reduce__', '__reduce_ex__', '__repr__', '__setattr__', '__sizeof__', '__str__', '__subclasshook__', '__weakref__', '_collect_as_arrow', '_jcols', '_jdf', '_jmap', '_jseq', '_lazy_rdd', '_repr_html_', '_sc', '_schema', '_sort_cols', '_support_repr_html', '_to_corrected_pandas_type', 'agg', 'alias', 'approxQuantile', 'cache', 'checkpoint', 'coalesce', 'colRegex', 'collect', 'columns', 'corr', 'count', 'cov', 'createGlobalTempView', 'createOrReplaceGlobalTempView', 'createOrReplaceTempView', 'createTempView', 'crossJoin', 'crosstab', 'cube', 'describe', 'distinct', 'drop', 'dropDuplicates', 'drop_duplicates', 'dropna', 'dtypes', 'exceptAll', 'explain', 'fillna', 'filter', 'first', 'foreach', 'foreachPartition', 'freqItems', 'groupBy', 'groupby', 'head', 'hint', 'intersect', 'intersectAll', 'isLocal', 'isStreaming', 'is_cached', 'join', 'limit', 'localCheckpoint', 'mapInPandas', 'na', 'orderBy', 'persist', 'printSchema', 'randomSplit', 'rdd', 'registerTempTable', 'repartition', 'repartitionByRange', 'replace', 'rollup', 'sample', 'sampleBy', 'schema', 'select', 'selectExpr', 'show', 'sort', 'sortWithinPartitions', 'sql_ctx', 'stat', 'storageLevel', 'subtract', 'summary', 'tail', 'take', 'toDF', 'toJSON', 'toLocalIterator', 'toPandas', 'transform', 'union', 'unionAll', 'unionByName', 'unpersist', 'where', 'withColumn', 'withColumnRenamed', 'withWatermark', 'write', 'writeStream']\n"
     ]
    }
   ],
   "source": [
    "print(dir(df))"
   ]
  },
  {
   "cell_type": "code",
   "execution_count": 48,
   "metadata": {},
   "outputs": [
    {
     "data": {
      "text/plain": [
       "[Row(Series_reference='BDCQ.SEA1AA', Period=2011.06, Data_value=80078.0, Suppressed=None, STATUS='F', UNITS='Number', Magnitude=0, Subject='Business Data Collection - BDC', Group='Industry by employment variable', Series_title_1='Filled jobs', Series_title_2='Agriculture, Forestry and Fishing', Series_title_3='Actual', Series_title_4=None, Series_title_5=None),\n",
       " Row(Series_reference='BDCQ.SEA1AA', Period=2011.09, Data_value=78324.0, Suppressed=None, STATUS='F', UNITS='Number', Magnitude=0, Subject='Business Data Collection - BDC', Group='Industry by employment variable', Series_title_1='Filled jobs', Series_title_2='Agriculture, Forestry and Fishing', Series_title_3='Actual', Series_title_4=None, Series_title_5=None)]"
      ]
     },
     "execution_count": 48,
     "metadata": {},
     "output_type": "execute_result"
    }
   ],
   "source": [
    "df.head(2)"
   ]
  },
  {
   "cell_type": "code",
   "execution_count": 50,
   "metadata": {},
   "outputs": [
    {
     "data": {
      "text/plain": [
       "[Row(Series_reference='BDCQ.SEE3999A', Period=2017.12, Data_value=None, Suppressed='Y', STATUS='C', UNITS='Number', Magnitude=0, Subject='Business Data Collection - BDC', Group='Territorial authority by employment variable', Series_title_1='Filled jobs (workplace location based)', Series_title_2='Area Outside Territorial Authority', Series_title_3='Actual', Series_title_4=None, Series_title_5=None),\n",
       " Row(Series_reference='BDCQ.SEE3999A', Period=2018.03, Data_value=None, Suppressed='Y', STATUS='C', UNITS='Number', Magnitude=0, Subject='Business Data Collection - BDC', Group='Territorial authority by employment variable', Series_title_1='Filled jobs (workplace location based)', Series_title_2='Area Outside Territorial Authority', Series_title_3='Actual', Series_title_4=None, Series_title_5=None),\n",
       " Row(Series_reference='BDCQ.SEE3999A', Period=2018.06, Data_value=None, Suppressed='Y', STATUS='C', UNITS='Number', Magnitude=0, Subject='Business Data Collection - BDC', Group='Territorial authority by employment variable', Series_title_1='Filled jobs (workplace location based)', Series_title_2='Area Outside Territorial Authority', Series_title_3='Actual', Series_title_4=None, Series_title_5=None)]"
      ]
     },
     "execution_count": 50,
     "metadata": {},
     "output_type": "execute_result"
    }
   ],
   "source": [
    "df.tail(3)"
   ]
  },
  {
   "cell_type": "code",
   "execution_count": 14,
   "metadata": {},
   "outputs": [
    {
     "name": "stdout",
     "output_type": "stream",
     "text": [
      "+----------------+-------+----------+----------+------+------+---------+--------------------+--------------------+--------------+--------------------+--------------+--------------+--------------+\n",
      "|Series_reference| Period|Data_value|Suppressed|STATUS| UNITS|Magnitude|             Subject|               Group|Series_title_1|      Series_title_2|Series_title_3|Series_title_4|Series_title_5|\n",
      "+----------------+-------+----------+----------+------+------+---------+--------------------+--------------------+--------------+--------------------+--------------+--------------+--------------+\n",
      "|     BDCQ.SEA1AA|2011.06|   80078.0|      null|     F|Number|        0|Business Data Col...|Industry by emplo...|   Filled jobs|Agriculture, Fore...|        Actual|          null|          null|\n",
      "|     BDCQ.SEA1AA|2011.09|   78324.0|      null|     F|Number|        0|Business Data Col...|Industry by emplo...|   Filled jobs|Agriculture, Fore...|        Actual|          null|          null|\n",
      "|     BDCQ.SEA1AA|2011.12|   85850.0|      null|     F|Number|        0|Business Data Col...|Industry by emplo...|   Filled jobs|Agriculture, Fore...|        Actual|          null|          null|\n",
      "|     BDCQ.SEA1AA|2012.03|   90743.0|      null|     F|Number|        0|Business Data Col...|Industry by emplo...|   Filled jobs|Agriculture, Fore...|        Actual|          null|          null|\n",
      "|     BDCQ.SEA1AA|2012.06|   81780.0|      null|     F|Number|        0|Business Data Col...|Industry by emplo...|   Filled jobs|Agriculture, Fore...|        Actual|          null|          null|\n",
      "|     BDCQ.SEA1AA|2012.09|   79261.0|      null|     F|Number|        0|Business Data Col...|Industry by emplo...|   Filled jobs|Agriculture, Fore...|        Actual|          null|          null|\n",
      "|     BDCQ.SEA1AA|2012.12|   87793.0|      null|     F|Number|        0|Business Data Col...|Industry by emplo...|   Filled jobs|Agriculture, Fore...|        Actual|          null|          null|\n",
      "|     BDCQ.SEA1AA|2013.03|   91571.0|      null|     F|Number|        0|Business Data Col...|Industry by emplo...|   Filled jobs|Agriculture, Fore...|        Actual|          null|          null|\n",
      "|     BDCQ.SEA1AA|2013.06|   81687.0|      null|     F|Number|        0|Business Data Col...|Industry by emplo...|   Filled jobs|Agriculture, Fore...|        Actual|          null|          null|\n",
      "|     BDCQ.SEA1AA|2013.09|   81471.0|      null|     F|Number|        0|Business Data Col...|Industry by emplo...|   Filled jobs|Agriculture, Fore...|        Actual|          null|          null|\n",
      "|     BDCQ.SEA1AA|2013.12|   93950.0|      null|     F|Number|        0|Business Data Col...|Industry by emplo...|   Filled jobs|Agriculture, Fore...|        Actual|          null|          null|\n",
      "|     BDCQ.SEA1AA|2014.03|   97208.0|      null|     F|Number|        0|Business Data Col...|Industry by emplo...|   Filled jobs|Agriculture, Fore...|        Actual|          null|          null|\n",
      "|     BDCQ.SEA1AA|2014.06|   85879.0|      null|     F|Number|        0|Business Data Col...|Industry by emplo...|   Filled jobs|Agriculture, Fore...|        Actual|          null|          null|\n",
      "|     BDCQ.SEA1AA|2014.09|   84447.0|      null|     F|Number|        0|Business Data Col...|Industry by emplo...|   Filled jobs|Agriculture, Fore...|        Actual|          null|          null|\n",
      "|     BDCQ.SEA1AA|2014.12|   95075.0|      null|     F|Number|        0|Business Data Col...|Industry by emplo...|   Filled jobs|Agriculture, Fore...|        Actual|          null|          null|\n",
      "|     BDCQ.SEA1AA|2015.03|   98202.0|      null|     F|Number|        0|Business Data Col...|Industry by emplo...|   Filled jobs|Agriculture, Fore...|        Actual|          null|          null|\n",
      "|     BDCQ.SEA1AA|2015.06|   87987.0|      null|     F|Number|        0|Business Data Col...|Industry by emplo...|   Filled jobs|Agriculture, Fore...|        Actual|          null|          null|\n",
      "|     BDCQ.SEA1AA|2015.09|   84529.0|      null|     F|Number|        0|Business Data Col...|Industry by emplo...|   Filled jobs|Agriculture, Fore...|        Actual|          null|          null|\n",
      "|     BDCQ.SEA1AA|2015.12|   96848.0|      null|     F|Number|        0|Business Data Col...|Industry by emplo...|   Filled jobs|Agriculture, Fore...|        Actual|          null|          null|\n",
      "|     BDCQ.SEA1AA|2016.03|   99291.0|      null|     F|Number|        0|Business Data Col...|Industry by emplo...|   Filled jobs|Agriculture, Fore...|        Actual|          null|          null|\n",
      "+----------------+-------+----------+----------+------+------+---------+--------------------+--------------------+--------------+--------------------+--------------+--------------+--------------+\n",
      "only showing top 20 rows\n",
      "\n"
     ]
    }
   ],
   "source": [
    "df.show()"
   ]
  },
  {
   "cell_type": "code",
   "execution_count": 15,
   "metadata": {},
   "outputs": [
    {
     "name": "stdout",
     "output_type": "stream",
     "text": [
      "root\n",
      " |-- Series_reference: string (nullable = true)\n",
      " |-- Period: double (nullable = true)\n",
      " |-- Data_value: double (nullable = true)\n",
      " |-- Suppressed: string (nullable = true)\n",
      " |-- STATUS: string (nullable = true)\n",
      " |-- UNITS: string (nullable = true)\n",
      " |-- Magnitude: integer (nullable = true)\n",
      " |-- Subject: string (nullable = true)\n",
      " |-- Group: string (nullable = true)\n",
      " |-- Series_title_1: string (nullable = true)\n",
      " |-- Series_title_2: string (nullable = true)\n",
      " |-- Series_title_3: string (nullable = true)\n",
      " |-- Series_title_4: string (nullable = true)\n",
      " |-- Series_title_5: string (nullable = true)\n",
      "\n"
     ]
    }
   ],
   "source": [
    "df.printSchema()"
   ]
  },
  {
   "cell_type": "code",
   "execution_count": 16,
   "metadata": {},
   "outputs": [
    {
     "data": {
      "text/plain": [
       "['Series_reference',\n",
       " 'Period',\n",
       " 'Data_value',\n",
       " 'Suppressed',\n",
       " 'STATUS',\n",
       " 'UNITS',\n",
       " 'Magnitude',\n",
       " 'Subject',\n",
       " 'Group',\n",
       " 'Series_title_1',\n",
       " 'Series_title_2',\n",
       " 'Series_title_3',\n",
       " 'Series_title_4',\n",
       " 'Series_title_5']"
      ]
     },
     "execution_count": 16,
     "metadata": {},
     "output_type": "execute_result"
    }
   ],
   "source": [
    "df.columns"
   ]
  },
  {
   "cell_type": "code",
   "execution_count": 17,
   "metadata": {},
   "outputs": [
    {
     "data": {
      "text/plain": [
       "12316"
      ]
     },
     "execution_count": 17,
     "metadata": {},
     "output_type": "execute_result"
    }
   ],
   "source": [
    "df.count()"
   ]
  },
  {
   "cell_type": "code",
   "execution_count": 10,
   "metadata": {},
   "outputs": [
    {
     "data": {
      "text/plain": [
       "14"
      ]
     },
     "execution_count": 10,
     "metadata": {},
     "output_type": "execute_result"
    }
   ],
   "source": [
    "len(df.columns) "
   ]
  },
  {
   "cell_type": "code",
   "execution_count": 13,
   "metadata": {},
   "outputs": [
    {
     "name": "stdout",
     "output_type": "stream",
     "text": [
      "+-------+-----------------+\n",
      "|summary|       Data_value|\n",
      "+-------+-----------------+\n",
      "|  count|            12285|\n",
      "|   mean|49214.80998086496|\n",
      "| stddev|156169.1340675331|\n",
      "|    min|         1.269302|\n",
      "|    max|        2134716.0|\n",
      "+-------+-----------------+\n",
      "\n"
     ]
    }
   ],
   "source": [
    "df.describe('Data_value').show()"
   ]
  },
  {
   "cell_type": "code",
   "execution_count": 18,
   "metadata": {},
   "outputs": [
    {
     "name": "stdout",
     "output_type": "stream",
     "text": [
      "+-------+------+----------+\n",
      "| Period|STATUS|Data_value|\n",
      "+-------+------+----------+\n",
      "|2011.06|     F|   80078.0|\n",
      "|2011.09|     F|   78324.0|\n",
      "|2011.12|     F|   85850.0|\n",
      "|2012.03|     F|   90743.0|\n",
      "|2012.06|     F|   81780.0|\n",
      "|2012.09|     F|   79261.0|\n",
      "|2012.12|     F|   87793.0|\n",
      "|2013.03|     F|   91571.0|\n",
      "|2013.06|     F|   81687.0|\n",
      "|2013.09|     F|   81471.0|\n",
      "|2013.12|     F|   93950.0|\n",
      "|2014.03|     F|   97208.0|\n",
      "|2014.06|     F|   85879.0|\n",
      "|2014.09|     F|   84447.0|\n",
      "|2014.12|     F|   95075.0|\n",
      "|2015.03|     F|   98202.0|\n",
      "|2015.06|     F|   87987.0|\n",
      "|2015.09|     F|   84529.0|\n",
      "|2015.12|     F|   96848.0|\n",
      "|2016.03|     F|   99291.0|\n",
      "+-------+------+----------+\n",
      "only showing top 20 rows\n",
      "\n"
     ]
    }
   ],
   "source": [
    "df.select('Period','STATUS','Data_value').show()"
   ]
  },
  {
   "cell_type": "code",
   "execution_count": 19,
   "metadata": {},
   "outputs": [
    {
     "name": "stdout",
     "output_type": "stream",
     "text": [
      "+----------------+-------+----------+----------+------+------+---------+--------------------+--------------------+--------------------+--------------------+--------------+--------------+--------------+\n",
      "|Series_reference| Period|Data_value|Suppressed|STATUS| UNITS|Magnitude|             Subject|               Group|      Series_title_1|      Series_title_2|Series_title_3|Series_title_4|Series_title_5|\n",
      "+----------------+-------+----------+----------+------+------+---------+--------------------+--------------------+--------------------+--------------------+--------------+--------------+--------------+\n",
      "|   BDCQ.SEE1999A|2012.09|      null|         Y|     C|Number|        0|Business Data Col...|Territorial autho...|         Filled jobs|Area Outside Terr...|        Actual|          null|          null|\n",
      "|   BDCQ.SEE2999A|2012.09|      null|         Y|     C| Value|        6|Business Data Col...|Territorial autho...|      Total earnings|Area Outside Terr...|        Actual|          null|          null|\n",
      "|   BDCQ.SEE3999A|2011.06|      null|         Y|     C|Number|        0|Business Data Col...|Territorial autho...|Filled jobs (work...|Area Outside Terr...|        Actual|          null|          null|\n",
      "|   BDCQ.SEE3999A|2011.09|      null|         Y|     C|Number|        0|Business Data Col...|Territorial autho...|Filled jobs (work...|Area Outside Terr...|        Actual|          null|          null|\n",
      "|   BDCQ.SEE3999A|2011.12|      null|         Y|     C|Number|        0|Business Data Col...|Territorial autho...|Filled jobs (work...|Area Outside Terr...|        Actual|          null|          null|\n",
      "|   BDCQ.SEE3999A|2012.03|      null|         Y|     C|Number|        0|Business Data Col...|Territorial autho...|Filled jobs (work...|Area Outside Terr...|        Actual|          null|          null|\n",
      "|   BDCQ.SEE3999A|2012.06|      null|         Y|     C|Number|        0|Business Data Col...|Territorial autho...|Filled jobs (work...|Area Outside Terr...|        Actual|          null|          null|\n",
      "|   BDCQ.SEE3999A|2012.09|      null|         Y|     C|Number|        0|Business Data Col...|Territorial autho...|Filled jobs (work...|Area Outside Terr...|        Actual|          null|          null|\n",
      "|   BDCQ.SEE3999A|2012.12|      null|         Y|     C|Number|        0|Business Data Col...|Territorial autho...|Filled jobs (work...|Area Outside Terr...|        Actual|          null|          null|\n",
      "|   BDCQ.SEE3999A|2013.03|      null|         Y|     C|Number|        0|Business Data Col...|Territorial autho...|Filled jobs (work...|Area Outside Terr...|        Actual|          null|          null|\n",
      "|   BDCQ.SEE3999A|2013.06|      null|         Y|     C|Number|        0|Business Data Col...|Territorial autho...|Filled jobs (work...|Area Outside Terr...|        Actual|          null|          null|\n",
      "|   BDCQ.SEE3999A|2013.09|      null|         Y|     C|Number|        0|Business Data Col...|Territorial autho...|Filled jobs (work...|Area Outside Terr...|        Actual|          null|          null|\n",
      "|   BDCQ.SEE3999A|2013.12|      null|         Y|     C|Number|        0|Business Data Col...|Territorial autho...|Filled jobs (work...|Area Outside Terr...|        Actual|          null|          null|\n",
      "|   BDCQ.SEE3999A|2014.03|      null|         Y|     C|Number|        0|Business Data Col...|Territorial autho...|Filled jobs (work...|Area Outside Terr...|        Actual|          null|          null|\n",
      "|   BDCQ.SEE3999A|2014.06|      null|         Y|     C|Number|        0|Business Data Col...|Territorial autho...|Filled jobs (work...|Area Outside Terr...|        Actual|          null|          null|\n",
      "|   BDCQ.SEE3999A|2014.09|      null|         Y|     C|Number|        0|Business Data Col...|Territorial autho...|Filled jobs (work...|Area Outside Terr...|        Actual|          null|          null|\n",
      "|   BDCQ.SEE3999A|2014.12|      null|         Y|     C|Number|        0|Business Data Col...|Territorial autho...|Filled jobs (work...|Area Outside Terr...|        Actual|          null|          null|\n",
      "|   BDCQ.SEE3999A|2015.03|      null|         Y|     C|Number|        0|Business Data Col...|Territorial autho...|Filled jobs (work...|Area Outside Terr...|        Actual|          null|          null|\n",
      "|   BDCQ.SEE3999A|2015.06|      null|         Y|     C|Number|        0|Business Data Col...|Territorial autho...|Filled jobs (work...|Area Outside Terr...|        Actual|          null|          null|\n",
      "|   BDCQ.SEE3999A|2015.09|      null|         Y|     C|Number|        0|Business Data Col...|Territorial autho...|Filled jobs (work...|Area Outside Terr...|        Actual|          null|          null|\n",
      "+----------------+-------+----------+----------+------+------+---------+--------------------+--------------------+--------------------+--------------------+--------------+--------------+--------------+\n",
      "only showing top 20 rows\n",
      "\n"
     ]
    },
    {
     "data": {
      "text/plain": [
       "31"
      ]
     },
     "execution_count": 19,
     "metadata": {},
     "output_type": "execute_result"
    }
   ],
   "source": [
    "df.filter(df.Suppressed=='Y').show()\n",
    "df.filter(df.Suppressed=='Y').count()"
   ]
  },
  {
   "cell_type": "code",
   "execution_count": 32,
   "metadata": {},
   "outputs": [
    {
     "data": {
      "text/plain": [
       "11733"
      ]
     },
     "execution_count": 32,
     "metadata": {},
     "output_type": "execute_result"
    }
   ],
   "source": [
    "df.select('Period','STATUS','Data_value').distinct().count()"
   ]
  },
  {
   "cell_type": "code",
   "execution_count": 33,
   "metadata": {},
   "outputs": [
    {
     "data": {
      "text/plain": [
       "11214"
      ]
     },
     "execution_count": 33,
     "metadata": {},
     "output_type": "execute_result"
    }
   ],
   "source": [
    "df.select('Data_value').distinct().count()"
   ]
  },
  {
   "cell_type": "code",
   "execution_count": 34,
   "metadata": {},
   "outputs": [
    {
     "ename": "SyntaxError",
     "evalue": "invalid syntax (<ipython-input-34-19602060278a>, line 1)",
     "output_type": "error",
     "traceback": [
      "\u001b[1;36m  File \u001b[1;32m\"<ipython-input-34-19602060278a>\"\u001b[1;36m, line \u001b[1;32m1\u001b[0m\n\u001b[1;33m    df.filter((df.Suppressed=='Y') && (df.Series_reference==\"BDCQ.SEE1999A\")).count()\u001b[0m\n\u001b[1;37m                                    ^\u001b[0m\n\u001b[1;31mSyntaxError\u001b[0m\u001b[1;31m:\u001b[0m invalid syntax\n"
     ]
    }
   ],
   "source": [
    "df.filter((df.Suppressed=='Y') && (df.Series_reference==\"BDCQ.SEE1999A\")).count()"
   ]
  },
  {
   "cell_type": "code",
   "execution_count": 35,
   "metadata": {},
   "outputs": [
    {
     "name": "stdout",
     "output_type": "stream",
     "text": [
      "+----------------+-------+----------+----------+------+------+---------+--------------------+--------------------+--------------------+--------------------+--------------+--------------+--------------+\n",
      "|Series_reference| Period|Data_value|Suppressed|STATUS| UNITS|Magnitude|             Subject|               Group|      Series_title_1|      Series_title_2|Series_title_3|Series_title_4|Series_title_5|\n",
      "+----------------+-------+----------+----------+------+------+---------+--------------------+--------------------+--------------------+--------------------+--------------+--------------+--------------+\n",
      "|   BDCQ.SEE3999A|2011.12|      null|         Y|     C|Number|        0|Business Data Col...|Territorial autho...|Filled jobs (work...|Area Outside Terr...|        Actual|          null|          null|\n",
      "|   BDCQ.SEE3999A|2016.12|      null|         Y|     C|Number|        0|Business Data Col...|Territorial autho...|Filled jobs (work...|Area Outside Terr...|        Actual|          null|          null|\n",
      "|   BDCQ.SEE3999A|2012.03|      null|         Y|     C|Number|        0|Business Data Col...|Territorial autho...|Filled jobs (work...|Area Outside Terr...|        Actual|          null|          null|\n",
      "|   BDCQ.SEE3999A|2011.09|      null|         Y|     C|Number|        0|Business Data Col...|Territorial autho...|Filled jobs (work...|Area Outside Terr...|        Actual|          null|          null|\n",
      "|   BDCQ.SEE3999A|2012.06|      null|         Y|     C|Number|        0|Business Data Col...|Territorial autho...|Filled jobs (work...|Area Outside Terr...|        Actual|          null|          null|\n",
      "|   BDCQ.SEE3999A|2013.09|      null|         Y|     C|Number|        0|Business Data Col...|Territorial autho...|Filled jobs (work...|Area Outside Terr...|        Actual|          null|          null|\n",
      "|   BDCQ.SEE3999A|2016.09|      null|         Y|     C|Number|        0|Business Data Col...|Territorial autho...|Filled jobs (work...|Area Outside Terr...|        Actual|          null|          null|\n",
      "|   BDCQ.SEE3999A|2013.12|      null|         Y|     C|Number|        0|Business Data Col...|Territorial autho...|Filled jobs (work...|Area Outside Terr...|        Actual|          null|          null|\n",
      "|   BDCQ.SEE3999A|2014.06|      null|         Y|     C|Number|        0|Business Data Col...|Territorial autho...|Filled jobs (work...|Area Outside Terr...|        Actual|          null|          null|\n",
      "|   BDCQ.SEE3999A|2016.06|      null|         Y|     C|Number|        0|Business Data Col...|Territorial autho...|Filled jobs (work...|Area Outside Terr...|        Actual|          null|          null|\n",
      "|   BDCQ.SEE3999A|2014.09|      null|         Y|     C|Number|        0|Business Data Col...|Territorial autho...|Filled jobs (work...|Area Outside Terr...|        Actual|          null|          null|\n",
      "|   BDCQ.SEE1999A|2012.09|      null|         Y|     C|Number|        0|Business Data Col...|Territorial autho...|         Filled jobs|Area Outside Terr...|        Actual|          null|          null|\n",
      "|   BDCQ.SEE3999A|2014.12|      null|         Y|     C|Number|        0|Business Data Col...|Territorial autho...|Filled jobs (work...|Area Outside Terr...|        Actual|          null|          null|\n",
      "|   BDCQ.SEE3999A|2012.09|      null|         Y|     C|Number|        0|Business Data Col...|Territorial autho...|Filled jobs (work...|Area Outside Terr...|        Actual|          null|          null|\n",
      "|   BDCQ.SEE3999A|2015.03|      null|         Y|     C|Number|        0|Business Data Col...|Territorial autho...|Filled jobs (work...|Area Outside Terr...|        Actual|          null|          null|\n",
      "|   BDCQ.SEE3999A|2013.03|      null|         Y|     C|Number|        0|Business Data Col...|Territorial autho...|Filled jobs (work...|Area Outside Terr...|        Actual|          null|          null|\n",
      "|   BDCQ.SEE3999A|2015.06|      null|         Y|     C|Number|        0|Business Data Col...|Territorial autho...|Filled jobs (work...|Area Outside Terr...|        Actual|          null|          null|\n",
      "|   BDCQ.SEE3999A|2014.03|      null|         Y|     C|Number|        0|Business Data Col...|Territorial autho...|Filled jobs (work...|Area Outside Terr...|        Actual|          null|          null|\n",
      "|   BDCQ.SEE3999A|2016.03|      null|         Y|     C|Number|        0|Business Data Col...|Territorial autho...|Filled jobs (work...|Area Outside Terr...|        Actual|          null|          null|\n",
      "|   BDCQ.SEE3999A|2015.09|      null|         Y|     C|Number|        0|Business Data Col...|Territorial autho...|Filled jobs (work...|Area Outside Terr...|        Actual|          null|          null|\n",
      "+----------------+-------+----------+----------+------+------+---------+--------------------+--------------------+--------------------+--------------------+--------------+--------------+--------------+\n",
      "only showing top 20 rows\n",
      "\n"
     ]
    }
   ],
   "source": [
    "df.orderBy(df.Data_value).show()"
   ]
  },
  {
   "cell_type": "code",
   "execution_count": 38,
   "metadata": {},
   "outputs": [
    {
     "name": "stdout",
     "output_type": "stream",
     "text": [
      "+------+-----+\n",
      "| UNITS|count|\n",
      "+------+-----+\n",
      "|Number| 7791|\n",
      "| Value| 4525|\n",
      "+------+-----+\n",
      "\n"
     ]
    }
   ],
   "source": [
    "df.groupBy(\"UNITS\").count().show()\n"
   ]
  },
  {
   "cell_type": "markdown",
   "metadata": {},
   "source": [
    "# creating spark dataframe using pandas dataframe"
   ]
  },
  {
   "cell_type": "code",
   "execution_count": 41,
   "metadata": {},
   "outputs": [],
   "source": [
    "import pandas as pd\n",
    "df_pandas = pd.read_csv(\"test.csv\")"
   ]
  },
  {
   "cell_type": "code",
   "execution_count": null,
   "metadata": {},
   "outputs": [],
   "source": [
    "# df_pandas"
   ]
  },
  {
   "cell_type": "code",
   "execution_count": 43,
   "metadata": {},
   "outputs": [],
   "source": [
    "df_spark_pandas = spark.createDataFrame(df_pandas)"
   ]
  },
  {
   "cell_type": "code",
   "execution_count": 45,
   "metadata": {},
   "outputs": [
    {
     "name": "stdout",
     "output_type": "stream",
     "text": [
      "+---+----+---+\n",
      "|age|name| id|\n",
      "+---+----+---+\n",
      "| 23| xyz|123|\n",
      "| 25| abc|456|\n",
      "| 30| tvx|897|\n",
      "+---+----+---+\n",
      "\n"
     ]
    }
   ],
   "source": [
    "df_spark_pandas.show()"
   ]
  },
  {
   "cell_type": "markdown",
   "metadata": {},
   "source": [
    "# creating spark dataframe using csv, json, parquet, orc"
   ]
  },
  {
   "cell_type": "code",
   "execution_count": 5,
   "metadata": {},
   "outputs": [],
   "source": [
    "df_csv = spark.read.csv(\"world_wonders.csv\",inferSchema = True, header = True)"
   ]
  },
  {
   "cell_type": "code",
   "execution_count": 6,
   "metadata": {},
   "outputs": [
    {
     "name": "stdout",
     "output_type": "stream",
     "text": [
      "+--------------------+--------+-------+\n",
      "|              Wonder|Location|   Year|\n",
      "+--------------------+--------+-------+\n",
      "|Great Pyramid of ...|   Egypt|2560 BC|\n",
      "| Great Wall of China|   China| 700 BC|\n",
      "|               Petra|  Jordan| 312 BC|\n",
      "|           Colosseum|   Italy|  AD 80|\n",
      "|        Chichen Itza|  Mexico| AD 600|\n",
      "|        Machu Picchu|    Peru|AD 1450|\n",
      "|           Taj Mahal|   India|AD 1643|\n",
      "| Christ the Redeemer|  Brazil|AD 1931|\n",
      "+--------------------+--------+-------+\n",
      "\n"
     ]
    }
   ],
   "source": [
    "df_csv.show()"
   ]
  },
  {
   "cell_type": "code",
   "execution_count": 8,
   "metadata": {},
   "outputs": [],
   "source": [
    "df_csv.write.json(\"world_wonders_auto.json\")"
   ]
  },
  {
   "cell_type": "code",
   "execution_count": 9,
   "metadata": {},
   "outputs": [],
   "source": [
    "df_json = spark.read.json(\"world_wonders.json\", multiLine=True)"
   ]
  },
  {
   "cell_type": "code",
   "execution_count": 10,
   "metadata": {},
   "outputs": [
    {
     "name": "stdout",
     "output_type": "stream",
     "text": [
      "+--------+--------------------+-------+\n",
      "|Location|              Wonder|   Year|\n",
      "+--------+--------------------+-------+\n",
      "|   Egypt|Great Pyramid of ...|2560 BC|\n",
      "|   China| Great Wall of China| 700 BC|\n",
      "|  Jordan|               Petra| 312 BC|\n",
      "|   Italy|           Colosseum|  AD 80|\n",
      "|  Mexico|        Chichen Itza| AD 600|\n",
      "|    Peru|        Machu Picchu|AD 1450|\n",
      "|   India|           Taj Mahal|AD 1643|\n",
      "|  Brazil| Christ the Redeemer|AD 1931|\n",
      "+--------+--------------------+-------+\n",
      "\n"
     ]
    }
   ],
   "source": [
    "df_json.show()"
   ]
  },
  {
   "cell_type": "code",
   "execution_count": 11,
   "metadata": {},
   "outputs": [],
   "source": [
    "df_json.write.parquet(\"world_wonders.parquet\")\n",
    "df_parquet = spark.read.parquet(\"world_wonders.parquet\")"
   ]
  },
  {
   "cell_type": "code",
   "execution_count": 16,
   "metadata": {},
   "outputs": [
    {
     "name": "stdout",
     "output_type": "stream",
     "text": [
      "+--------+--------------------+-------+\n",
      "|Location|              Wonder|   Year|\n",
      "+--------+--------------------+-------+\n",
      "|   Egypt|Great Pyramid of ...|2560 BC|\n",
      "|   China| Great Wall of China| 700 BC|\n",
      "|  Jordan|               Petra| 312 BC|\n",
      "|   Italy|           Colosseum|  AD 80|\n",
      "|  Mexico|        Chichen Itza| AD 600|\n",
      "|    Peru|        Machu Picchu|AD 1450|\n",
      "|   India|           Taj Mahal|AD 1643|\n",
      "|  Brazil| Christ the Redeemer|AD 1931|\n",
      "+--------+--------------------+-------+\n",
      "\n"
     ]
    }
   ],
   "source": [
    "df_parquet.show()"
   ]
  },
  {
   "cell_type": "code",
   "execution_count": 14,
   "metadata": {},
   "outputs": [],
   "source": [
    "df_parquet.write.orc(\"world_wonders.orc\")\n",
    "df_orc = spark.read.orc(\"world_wonders.orc\")"
   ]
  },
  {
   "cell_type": "code",
   "execution_count": 15,
   "metadata": {},
   "outputs": [
    {
     "name": "stdout",
     "output_type": "stream",
     "text": [
      "+--------+--------------------+-------+\n",
      "|Location|              Wonder|   Year|\n",
      "+--------+--------------------+-------+\n",
      "|   Egypt|Great Pyramid of ...|2560 BC|\n",
      "|   China| Great Wall of China| 700 BC|\n",
      "|  Jordan|               Petra| 312 BC|\n",
      "|   Italy|           Colosseum|  AD 80|\n",
      "|  Mexico|        Chichen Itza| AD 600|\n",
      "|    Peru|        Machu Picchu|AD 1450|\n",
      "|   India|           Taj Mahal|AD 1643|\n",
      "|  Brazil| Christ the Redeemer|AD 1931|\n",
      "+--------+--------------------+-------+\n",
      "\n"
     ]
    }
   ],
   "source": [
    "df_orc.show()"
   ]
  },
  {
   "cell_type": "code",
   "execution_count": null,
   "metadata": {},
   "outputs": [],
   "source": []
  }
 ],
 "metadata": {
  "kernelspec": {
   "display_name": "Python 3",
   "language": "python",
   "name": "python3"
  },
  "language_info": {
   "codemirror_mode": {
    "name": "ipython",
    "version": 3
   },
   "file_extension": ".py",
   "mimetype": "text/x-python",
   "name": "python",
   "nbconvert_exporter": "python",
   "pygments_lexer": "ipython3",
   "version": "3.8.5"
  }
 },
 "nbformat": 4,
 "nbformat_minor": 4
}
